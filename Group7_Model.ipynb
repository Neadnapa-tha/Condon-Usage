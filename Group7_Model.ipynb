{
  "cells": [
    {
      "cell_type": "markdown",
      "metadata": {
        "id": "_uDp51Cdmvkr"
      },
      "source": [
        "#**Data Preparation:**\n",
        "\n",
        "\n",
        "```\n",
        "คุณต้องหาข้อมูลและทำการแยกชุดข้อมูล training, validation, และ test sets\n",
        "```\n",
        "\n"
      ],
      "id": "_uDp51Cdmvkr"
    },
    {
      "cell_type": "code",
      "execution_count": null,
      "metadata": {
        "id": "c74579c0"
      },
      "outputs": [],
      "source": [
        "from numpy import genfromtxt\n",
        "import matplotlib.pyplot as plt\n",
        "import numpy as np\n",
        "import pandas as pd\n"
      ],
      "id": "c74579c0"
    },
    {
      "cell_type": "code",
      "execution_count": null,
      "metadata": {
        "colab": {
          "base_uri": "https://localhost:8080/"
        },
        "id": "jQ8qwDcKrgcF",
        "outputId": "424fd129-5c98-4fa8-929f-314ec8ed353f"
      },
      "outputs": [
        {
          "output_type": "stream",
          "name": "stdout",
          "text": [
            "<class 'pandas.core.frame.DataFrame'>\n",
            "RangeIndex: 13028 entries, 0 to 13027\n",
            "Data columns (total 69 columns):\n",
            " #   Column       Non-Null Count  Dtype  \n",
            "---  ------       --------------  -----  \n",
            " 0   Kingdom      13028 non-null  object \n",
            " 1   DNAtype      13028 non-null  int64  \n",
            " 2   SpeciesID    13028 non-null  int64  \n",
            " 3   Ncodons      13028 non-null  int64  \n",
            " 4   SpeciesName  13028 non-null  object \n",
            " 5   UUU          13028 non-null  object \n",
            " 6   UUC          13028 non-null  object \n",
            " 7   UUA          13028 non-null  float64\n",
            " 8   UUG          13028 non-null  float64\n",
            " 9   CUU          13028 non-null  float64\n",
            " 10  CUC          13028 non-null  float64\n",
            " 11  CUA          13028 non-null  float64\n",
            " 12  CUG          13028 non-null  float64\n",
            " 13  AUU          13028 non-null  float64\n",
            " 14  AUC          13028 non-null  float64\n",
            " 15  AUA          13028 non-null  float64\n",
            " 16  AUG          13028 non-null  float64\n",
            " 17  GUU          13028 non-null  float64\n",
            " 18  GUC          13028 non-null  float64\n",
            " 19  GUA          13028 non-null  float64\n",
            " 20  GUG          13028 non-null  float64\n",
            " 21  GCU          13028 non-null  float64\n",
            " 22  GCC          13028 non-null  float64\n",
            " 23  GCA          13028 non-null  float64\n",
            " 24  GCG          13028 non-null  float64\n",
            " 25  CCU          13028 non-null  float64\n",
            " 26  CCC          13028 non-null  float64\n",
            " 27  CCA          13028 non-null  float64\n",
            " 28  CCG          13028 non-null  float64\n",
            " 29  UGG          13028 non-null  float64\n",
            " 30  GGU          13028 non-null  float64\n",
            " 31  GGC          13028 non-null  float64\n",
            " 32  GGA          13028 non-null  float64\n",
            " 33  GGG          13028 non-null  float64\n",
            " 34  UCU          13028 non-null  float64\n",
            " 35  UCC          13028 non-null  float64\n",
            " 36  UCA          13028 non-null  float64\n",
            " 37  UCG          13028 non-null  float64\n",
            " 38  AGU          13028 non-null  float64\n",
            " 39  AGC          13028 non-null  float64\n",
            " 40  ACU          13028 non-null  float64\n",
            " 41  ACC          13028 non-null  float64\n",
            " 42  ACA          13028 non-null  float64\n",
            " 43  ACG          13028 non-null  float64\n",
            " 44  UAU          13028 non-null  float64\n",
            " 45  UAC          13028 non-null  float64\n",
            " 46  CAA          13028 non-null  float64\n",
            " 47  CAG          13028 non-null  float64\n",
            " 48  AAU          13028 non-null  float64\n",
            " 49  AAC          13028 non-null  float64\n",
            " 50  UGU          13028 non-null  float64\n",
            " 51  UGC          13028 non-null  float64\n",
            " 52  CAU          13028 non-null  float64\n",
            " 53  CAC          13028 non-null  float64\n",
            " 54  AAA          13028 non-null  float64\n",
            " 55  AAG          13028 non-null  float64\n",
            " 56  CGU          13028 non-null  float64\n",
            " 57  CGC          13028 non-null  float64\n",
            " 58  CGA          13028 non-null  float64\n",
            " 59  CGG          13028 non-null  float64\n",
            " 60  AGA          13028 non-null  float64\n",
            " 61  AGG          13028 non-null  float64\n",
            " 62  GAU          13028 non-null  float64\n",
            " 63  GAC          13028 non-null  float64\n",
            " 64  GAA          13028 non-null  float64\n",
            " 65  GAG          13028 non-null  float64\n",
            " 66  UAA          13028 non-null  float64\n",
            " 67  UAG          13028 non-null  float64\n",
            " 68  UGA          13028 non-null  float64\n",
            "dtypes: float64(62), int64(3), object(4)\n",
            "memory usage: 6.9+ MB\n"
          ]
        },
        {
          "output_type": "stream",
          "name": "stderr",
          "text": [
            "<ipython-input-57-b6d8af0df36a>:1: DtypeWarning: Columns (5,6) have mixed types. Specify dtype option on import or set low_memory=False.\n",
            "  df=pd.read_csv('codon_usage.csv')\n"
          ]
        }
      ],
      "source": [
        "df=pd.read_csv('codon_usage.csv')\n",
        "df.info()"
      ],
      "id": "jQ8qwDcKrgcF"
    },
    {
      "cell_type": "markdown",
      "metadata": {
        "id": "GBkN4Hbf5Waf"
      },
      "source": [
        "###**Clean Data:**"
      ],
      "id": "GBkN4Hbf5Waf"
    },
    {
      "cell_type": "markdown",
      "metadata": {
        "id": "OssnIjl5vIS_"
      },
      "source": [
        "**เหตุผลในการ clean data:** เราทำการนำค่า 0 และค่า null ออกไป เพราะว่า เราไม่สามารถคาดเดาได้ว่า data(CUGT - รหัสพันธุกรรม) แต่ละตัวมันสามารถเป็นค่า 0/null ได้รึเปล่า ดังนั้นถ้าเราจะใช้ data พวกนั้นอาจจะให้ผลลัพธ์ที่ไม่ดี และเราจำเป็นที่จะต้องมีการแปลง String ให้เป็นตัวเลขเพราะว่า รหัสพันธุกรรมควรมีค่าเป็นตัวเลข แต่พบค่าผิดปกติ ซึ่งทำให้ใน column UUU, UUC นั้นมีค่าเป็น object แทนที่จะเป็นตัวเลข"
      ],
      "id": "OssnIjl5vIS_"
    },
    {
      "cell_type": "code",
      "execution_count": null,
      "metadata": {
        "colab": {
          "base_uri": "https://localhost:8080/"
        },
        "id": "4b4bc8e2",
        "outputId": "ed541d1a-cbd3-4f6f-9e81-900501c63f21"
      },
      "outputs": [
        {
          "output_type": "stream",
          "name": "stdout",
          "text": [
            "Nulls\n",
            "=====\n",
            "DNAtype        0\n",
            "SpeciesID      0\n",
            "Ncodons        0\n",
            "SpeciesName    0\n",
            "dtype: int64\n",
            "UUU    0\n",
            "UUC    0\n",
            "UUA    0\n",
            "UUG    0\n",
            "CUU    0\n",
            "CUC    0\n",
            "CUA    0\n",
            "CUG    0\n",
            "AUU    0\n",
            "AUC    0\n",
            "AUA    0\n",
            "AUG    0\n",
            "GUU    0\n",
            "GUC    0\n",
            "GUA    0\n",
            "GUG    0\n",
            "GCU    0\n",
            "GCC    0\n",
            "GCA    0\n",
            "GCG    0\n",
            "CCU    0\n",
            "CCC    0\n",
            "CCA    0\n",
            "CCG    0\n",
            "UGG    0\n",
            "dtype: int64\n",
            "GGU    0\n",
            "GGC    0\n",
            "GGA    0\n",
            "GGG    0\n",
            "UCU    0\n",
            "UCC    0\n",
            "UCA    0\n",
            "UCG    0\n",
            "AGU    0\n",
            "AGC    0\n",
            "ACU    0\n",
            "ACC    0\n",
            "ACA    0\n",
            "ACG    0\n",
            "UAU    0\n",
            "UAC    0\n",
            "CAA    0\n",
            "CAG    0\n",
            "AAU    0\n",
            "AAC    0\n",
            "UGU    0\n",
            "UGC    0\n",
            "CAU    0\n",
            "CAC    0\n",
            "AAA    0\n",
            "AAG    0\n",
            "CGU    0\n",
            "CGC    0\n",
            "CGA    0\n",
            "CGG    0\n",
            "AGA    0\n",
            "AGG    0\n",
            "GAU    0\n",
            "GAC    0\n",
            "GAA    0\n",
            "GAG    0\n",
            "UAA    0\n",
            "UAG    0\n",
            "UGA    0\n",
            "dtype: int64\n"
          ]
        }
      ],
      "source": [
        "# หาค่า null ว่ามีอยู่ใน dataset หรือเปล่า\n",
        "print(\"Nulls\")\n",
        "print(\"=====\")\n",
        "\n",
        "print(df[['DNAtype', 'SpeciesID', 'Ncodons', 'SpeciesName']].isnull().sum())\n",
        "\n",
        "print(df[[ 'UUU',\n",
        "       'UUC', 'UUA', 'UUG', 'CUU', 'CUC', 'CUA', 'CUG', 'AUU', 'AUC', 'AUA',\n",
        "       'AUG', 'GUU', 'GUC', 'GUA', 'GUG', 'GCU', 'GCC', 'GCA', 'GCG', 'CCU',\n",
        "       'CCC', 'CCA', 'CCG', 'UGG']].isnull().sum()) \n",
        "\n",
        "print(df[[  'GGU', 'GGC', 'GGA', 'GGG', 'UCU', 'UCC',\n",
        "       'UCA', 'UCG', 'AGU', 'AGC', 'ACU', 'ACC', 'ACA', 'ACG', 'UAU', 'UAC',\n",
        "       'CAA', 'CAG', 'AAU', 'AAC', 'UGU', 'UGC', 'CAU', 'CAC', 'AAA', 'AAG',\n",
        "       'CGU', 'CGC', 'CGA', 'CGG', 'AGA', 'AGG', 'GAU', 'GAC', 'GAA', 'GAG',\n",
        "       'UAA', 'UAG', 'UGA']].isnull().sum()) "
      ],
      "id": "4b4bc8e2"
    },
    {
      "cell_type": "code",
      "execution_count": null,
      "metadata": {
        "colab": {
          "base_uri": "https://localhost:8080/"
        },
        "id": "4GUHcLE26dSc",
        "outputId": "09968e94-4406-4296-8bc6-4021f980fa11"
      },
      "outputs": [
        {
          "output_type": "stream",
          "name": "stdout",
          "text": [
            "0s\n",
            "==\n",
            "DNAtype        9267\n",
            "SpeciesID         0\n",
            "Ncodons           0\n",
            "SpeciesName       0\n",
            "dtype: int64\n",
            "UUU     12\n",
            "UUC      7\n",
            "UUA    460\n",
            "UUG    452\n",
            "CUU     35\n",
            "CUC    241\n",
            "CUA    275\n",
            "CUG    223\n",
            "AUU     51\n",
            "AUC     15\n",
            "AUA    289\n",
            "AUG     13\n",
            "GUU    106\n",
            "GUC     94\n",
            "GUA    111\n",
            "GUG    418\n",
            "GCU     21\n",
            "GCC     86\n",
            "GCA     25\n",
            "GCG    831\n",
            "CCU     53\n",
            "CCC    204\n",
            "CCA     69\n",
            "CCG    753\n",
            "UGG    406\n",
            "dtype: int64\n",
            "GGU     134\n",
            "GGC     176\n",
            "GGA      34\n",
            "GGG     201\n",
            "UCU     131\n",
            "UCC     104\n",
            "UCA     103\n",
            "UCG     816\n",
            "AGU     591\n",
            "AGC     196\n",
            "ACU      70\n",
            "ACC      71\n",
            "ACA     100\n",
            "ACG     646\n",
            "UAU     122\n",
            "UAC      36\n",
            "CAA      54\n",
            "CAG     452\n",
            "AAU      60\n",
            "AAC      24\n",
            "UGU     839\n",
            "UGC     508\n",
            "CAU     147\n",
            "CAC      88\n",
            "AAA      57\n",
            "AAG     405\n",
            "CGU     579\n",
            "CGC     506\n",
            "CGA     337\n",
            "CGG    1399\n",
            "AGA    1772\n",
            "AGG    2230\n",
            "GAU     261\n",
            "GAC     114\n",
            "GAA      16\n",
            "GAG     438\n",
            "UAA    1812\n",
            "UAG    4329\n",
            "UGA    2145\n",
            "dtype: int64\n"
          ]
        }
      ],
      "source": [
        "# หาค่า 0 ว่ามีอยู่ใน dataset หรือเปล่า\n",
        "print(\"0s\")\n",
        "print(\"==\")\n",
        "print(df[['DNAtype', 'SpeciesID', 'Ncodons', 'SpeciesName']].eq(0).sum())\n",
        "\n",
        "print(df[[ 'UUU',\n",
        "       'UUC', 'UUA', 'UUG', 'CUU', 'CUC', 'CUA', 'CUG', 'AUU', 'AUC', 'AUA',\n",
        "       'AUG', 'GUU', 'GUC', 'GUA', 'GUG', 'GCU', 'GCC', 'GCA', 'GCG', 'CCU',\n",
        "       'CCC', 'CCA', 'CCG', 'UGG']].eq(0).sum())\n",
        "\n",
        "print(df[[  'GGU', 'GGC', 'GGA', 'GGG', 'UCU', 'UCC',\n",
        "       'UCA', 'UCG', 'AGU', 'AGC', 'ACU', 'ACC', 'ACA', 'ACG', 'UAU', 'UAC',\n",
        "       'CAA', 'CAG', 'AAU', 'AAC', 'UGU', 'UGC', 'CAU', 'CAC', 'AAA', 'AAG',\n",
        "       'CGU', 'CGC', 'CGA', 'CGG', 'AGA', 'AGG', 'GAU', 'GAC', 'GAA', 'GAG',\n",
        "       'UAA', 'UAG', 'UGA']].eq(0).sum())"
      ],
      "id": "4GUHcLE26dSc"
    },
    {
      "cell_type": "code",
      "execution_count": null,
      "metadata": {
        "colab": {
          "base_uri": "https://localhost:8080/"
        },
        "id": "SDduRya36j4N",
        "outputId": "c13448ea-ce5c-4454-a0ac-49ecd98b1983"
      },
      "outputs": [
        {
          "output_type": "stream",
          "name": "stdout",
          "text": [
            "non-B hepatitis virus\n",
            "12;I\n"
          ]
        }
      ],
      "source": [
        "#  loop ข้อมูลใน datafram เพิ่อหาค่า value ที่ไม่ใช่ float ใน UUU แล้วถ้ามีค่าไหนที่เป็น string จะ print value นั้นออกมา\n",
        "for row in range(len(df)):\n",
        "    try:\n",
        "        float(df.iloc[row].loc['UUU'])\n",
        "    except:\n",
        "#         df.iloc[row].loc['UUC'] = -99\n",
        "        print(df.iloc[row].loc['UUU'])"
      ],
      "id": "SDduRya36j4N"
    },
    {
      "cell_type": "code",
      "execution_count": null,
      "metadata": {
        "colab": {
          "base_uri": "https://localhost:8080/"
        },
        "id": "uBuux7Zo6lly",
        "outputId": "16da03cc-aad6-48ed-fcd9-5ca4ff6da910"
      },
      "outputs": [
        {
          "output_type": "stream",
          "name": "stdout",
          "text": [
            "-\n"
          ]
        }
      ],
      "source": [
        "#  loop ข้อมูลใน datafram เพิ่อหาค่า value ที่ไม่ใช่ float ใน UUC แล้วถ้ามีค่าไหนที่เป็น string จะ print value นั้นออกมา\n",
        "for row in range(len(df)):\n",
        "    try:\n",
        "        float(df.iloc[row].loc['UUC'])\n",
        "    except:\n",
        "#         df.iloc[row].loc['UUC'] = -99\n",
        "        print(df.iloc[row].loc['UUC'])"
      ],
      "id": "uBuux7Zo6lly"
    },
    {
      "cell_type": "code",
      "execution_count": null,
      "metadata": {
        "colab": {
          "base_uri": "https://localhost:8080/"
        },
        "id": "3n9EVGZTtWRx",
        "outputId": "9f44fe16-1603-49c4-981d-52832414adb7"
      },
      "outputs": [
        {
          "output_type": "stream",
          "name": "stdout",
          "text": [
            "-------Check null-------\n",
            "UUU    0\n",
            "UUC    0\n",
            "dtype: int64\n"
          ]
        }
      ],
      "source": [
        "print(\"-------Check null-------\")\n",
        "print(df[[ 'UUU', 'UUC']].isnull().sum()) "
      ],
      "id": "3n9EVGZTtWRx"
    },
    {
      "cell_type": "code",
      "execution_count": null,
      "metadata": {
        "id": "aVzQvBol6wsg"
      },
      "outputs": [],
      "source": [
        "# ทำการแปลงค่าใน UUU ให้เป็น number ทั้งหมด โดยจะทำให้ตัวที่เป็น String กลายเป็นค่า null เพราะไม่สามารถแปลงค่าได้\n",
        "df['UUU'] = df['UUU'].apply(pd.to_numeric, errors='coerce')"
      ],
      "id": "aVzQvBol6wsg"
    },
    {
      "cell_type": "code",
      "execution_count": null,
      "metadata": {
        "id": "F_GJXSAK6zBo"
      },
      "outputs": [],
      "source": [
        "# ทำการแปลงค่าใน UUC ให้เป็น number ทั้งหมด โดยจะทำให้ตัวที่เป็น String กลายเป็นค่า null เพราะไม่สามารถแปลงค่าได้\n",
        "df['UUC'] = df['UUC'].apply(pd.to_numeric, errors='coerce')"
      ],
      "id": "F_GJXSAK6zBo"
    },
    {
      "cell_type": "code",
      "execution_count": null,
      "metadata": {
        "colab": {
          "base_uri": "https://localhost:8080/"
        },
        "id": "dng7-QKGtpNR",
        "outputId": "55cfecdf-1444-4263-dd11-8fcff87242e3"
      },
      "outputs": [
        {
          "output_type": "stream",
          "name": "stdout",
          "text": [
            "-------Check null again na-------\n",
            "UUU    2\n",
            "UUC    1\n",
            "dtype: int64\n"
          ]
        }
      ],
      "source": [
        "print(\"-------Check null again na-------\")\n",
        "print(df[[ 'UUU', 'UUC']].isnull().sum()) "
      ],
      "id": "dng7-QKGtpNR"
    },
    {
      "cell_type": "code",
      "execution_count": null,
      "metadata": {
        "id": "04te06gq6-M4"
      },
      "outputs": [],
      "source": [
        "#เป็นการลบ row ที่มีค่า null ทั้งหมดที่มึอยู่\n",
        "df = df.dropna(how='any',axis=0)"
      ],
      "id": "04te06gq6-M4"
    },
    {
      "cell_type": "code",
      "execution_count": null,
      "metadata": {
        "colab": {
          "base_uri": "https://localhost:8080/"
        },
        "id": "Z57NWjc3uFOw",
        "outputId": "38e28b5f-b172-443e-be7b-67fd51b09937"
      },
      "outputs": [
        {
          "output_type": "stream",
          "name": "stdout",
          "text": [
            "-------Check null again na na-------\n",
            "UUU    0\n",
            "UUC    0\n",
            "dtype: int64\n"
          ]
        }
      ],
      "source": [
        "print(\"-------Check null again na na-------\")\n",
        "print(df[[ 'UUU', 'UUC']].isnull().sum()) "
      ],
      "id": "Z57NWjc3uFOw"
    },
    {
      "cell_type": "code",
      "execution_count": null,
      "metadata": {
        "id": "bYKWmrn47B7C"
      },
      "outputs": [],
      "source": [
        "#เป็นการลบ row ที่มีค่า 0 \n",
        "df = df.loc[(df[[ 'UUU',\n",
        "       'UUC', 'UUA', 'UUG', 'CUU', 'CUC', 'CUA', 'CUG', 'AUU', 'AUC', 'AUA',\n",
        "       'AUG', 'GUU', 'GUC', 'GUA', 'GUG', 'GCU', 'GCC', 'GCA', 'GCG', 'CCU',\n",
        "       'CCC', 'CCA', 'CCG', 'UGG',  'GGU', 'GGC', 'GGA', 'GGG', 'UCU', 'UCC',\n",
        "       'UCA', 'UCG', 'AGU', 'AGC', 'ACU', 'ACC', 'ACA', 'ACG', 'UAU', 'UAC',\n",
        "       'CAA', 'CAG', 'AAU', 'AAC', 'UGU', 'UGC', 'CAU', 'CAC', 'AAA', 'AAG',\n",
        "       'CGU', 'CGC', 'CGA', 'CGG', 'AGA', 'AGG', 'GAU', 'GAC', 'GAA', 'GAG',\n",
        "       'UAA', 'UAG', 'UGA' ]] != 0).all(axis=1)]"
      ],
      "id": "bYKWmrn47B7C"
    },
    {
      "cell_type": "code",
      "execution_count": null,
      "metadata": {
        "colab": {
          "base_uri": "https://localhost:8080/"
        },
        "id": "Pr8Ju9qhIeA_",
        "outputId": "379e8617-3bd7-4636-a65c-da8c2147582f"
      },
      "outputs": [
        {
          "output_type": "stream",
          "name": "stdout",
          "text": [
            "0s\n",
            "==\n",
            "DNAtype        4981\n",
            "SpeciesID         0\n",
            "Ncodons           0\n",
            "SpeciesName       0\n",
            "dtype: int64\n",
            "UUU    0\n",
            "UUC    0\n",
            "UUA    0\n",
            "UUG    0\n",
            "CUU    0\n",
            "CUC    0\n",
            "CUA    0\n",
            "CUG    0\n",
            "AUU    0\n",
            "AUC    0\n",
            "AUA    0\n",
            "AUG    0\n",
            "GUU    0\n",
            "GUC    0\n",
            "GUA    0\n",
            "GUG    0\n",
            "GCU    0\n",
            "GCC    0\n",
            "GCA    0\n",
            "GCG    0\n",
            "CCU    0\n",
            "CCC    0\n",
            "CCA    0\n",
            "CCG    0\n",
            "UGG    0\n",
            "dtype: int64\n",
            "GGU    0\n",
            "GGC    0\n",
            "GGA    0\n",
            "GGG    0\n",
            "UCU    0\n",
            "UCC    0\n",
            "UCA    0\n",
            "UCG    0\n",
            "AGU    0\n",
            "AGC    0\n",
            "ACU    0\n",
            "ACC    0\n",
            "ACA    0\n",
            "ACG    0\n",
            "UAU    0\n",
            "UAC    0\n",
            "CAA    0\n",
            "CAG    0\n",
            "AAU    0\n",
            "AAC    0\n",
            "UGU    0\n",
            "UGC    0\n",
            "CAU    0\n",
            "CAC    0\n",
            "AAA    0\n",
            "AAG    0\n",
            "CGU    0\n",
            "CGC    0\n",
            "CGA    0\n",
            "CGG    0\n",
            "AGA    0\n",
            "AGG    0\n",
            "GAU    0\n",
            "GAC    0\n",
            "GAA    0\n",
            "GAG    0\n",
            "UAA    0\n",
            "UAG    0\n",
            "UGA    0\n",
            "dtype: int64\n"
          ]
        }
      ],
      "source": [
        "print(\"0s\")\n",
        "print(\"==\")\n",
        "print(df[['DNAtype', 'SpeciesID', 'Ncodons', 'SpeciesName']].eq(0).sum())\n",
        "\n",
        "print(df[[ 'UUU',\n",
        "       'UUC', 'UUA', 'UUG', 'CUU', 'CUC', 'CUA', 'CUG', 'AUU', 'AUC', 'AUA',\n",
        "       'AUG', 'GUU', 'GUC', 'GUA', 'GUG', 'GCU', 'GCC', 'GCA', 'GCG', 'CCU',\n",
        "       'CCC', 'CCA', 'CCG', 'UGG']].eq(0).sum())\n",
        "\n",
        "print(df[[  'GGU', 'GGC', 'GGA', 'GGG', 'UCU', 'UCC',\n",
        "       'UCA', 'UCG', 'AGU', 'AGC', 'ACU', 'ACC', 'ACA', 'ACG', 'UAU', 'UAC',\n",
        "       'CAA', 'CAG', 'AAU', 'AAC', 'UGU', 'UGC', 'CAU', 'CAC', 'AAA', 'AAG',\n",
        "       'CGU', 'CGC', 'CGA', 'CGG', 'AGA', 'AGG', 'GAU', 'GAC', 'GAA', 'GAG',\n",
        "       'UAA', 'UAG', 'UGA' ]].eq(0).sum())"
      ],
      "id": "Pr8Ju9qhIeA_"
    },
    {
      "cell_type": "code",
      "execution_count": null,
      "metadata": {
        "colab": {
          "base_uri": "https://localhost:8080/"
        },
        "id": "X2ANvA307Ycl",
        "outputId": "77bf9f7c-8c17-4676-bf3e-9e3c64709833"
      },
      "outputs": [
        {
          "output_type": "stream",
          "name": "stdout",
          "text": [
            "<class 'pandas.core.frame.DataFrame'>\n",
            "Int64Index: 5555 entries, 5 to 13027\n",
            "Data columns (total 69 columns):\n",
            " #   Column       Non-Null Count  Dtype  \n",
            "---  ------       --------------  -----  \n",
            " 0   Kingdom      5555 non-null   object \n",
            " 1   DNAtype      5555 non-null   int64  \n",
            " 2   SpeciesID    5555 non-null   int64  \n",
            " 3   Ncodons      5555 non-null   int64  \n",
            " 4   SpeciesName  5555 non-null   object \n",
            " 5   UUU          5555 non-null   float64\n",
            " 6   UUC          5555 non-null   float64\n",
            " 7   UUA          5555 non-null   float64\n",
            " 8   UUG          5555 non-null   float64\n",
            " 9   CUU          5555 non-null   float64\n",
            " 10  CUC          5555 non-null   float64\n",
            " 11  CUA          5555 non-null   float64\n",
            " 12  CUG          5555 non-null   float64\n",
            " 13  AUU          5555 non-null   float64\n",
            " 14  AUC          5555 non-null   float64\n",
            " 15  AUA          5555 non-null   float64\n",
            " 16  AUG          5555 non-null   float64\n",
            " 17  GUU          5555 non-null   float64\n",
            " 18  GUC          5555 non-null   float64\n",
            " 19  GUA          5555 non-null   float64\n",
            " 20  GUG          5555 non-null   float64\n",
            " 21  GCU          5555 non-null   float64\n",
            " 22  GCC          5555 non-null   float64\n",
            " 23  GCA          5555 non-null   float64\n",
            " 24  GCG          5555 non-null   float64\n",
            " 25  CCU          5555 non-null   float64\n",
            " 26  CCC          5555 non-null   float64\n",
            " 27  CCA          5555 non-null   float64\n",
            " 28  CCG          5555 non-null   float64\n",
            " 29  UGG          5555 non-null   float64\n",
            " 30  GGU          5555 non-null   float64\n",
            " 31  GGC          5555 non-null   float64\n",
            " 32  GGA          5555 non-null   float64\n",
            " 33  GGG          5555 non-null   float64\n",
            " 34  UCU          5555 non-null   float64\n",
            " 35  UCC          5555 non-null   float64\n",
            " 36  UCA          5555 non-null   float64\n",
            " 37  UCG          5555 non-null   float64\n",
            " 38  AGU          5555 non-null   float64\n",
            " 39  AGC          5555 non-null   float64\n",
            " 40  ACU          5555 non-null   float64\n",
            " 41  ACC          5555 non-null   float64\n",
            " 42  ACA          5555 non-null   float64\n",
            " 43  ACG          5555 non-null   float64\n",
            " 44  UAU          5555 non-null   float64\n",
            " 45  UAC          5555 non-null   float64\n",
            " 46  CAA          5555 non-null   float64\n",
            " 47  CAG          5555 non-null   float64\n",
            " 48  AAU          5555 non-null   float64\n",
            " 49  AAC          5555 non-null   float64\n",
            " 50  UGU          5555 non-null   float64\n",
            " 51  UGC          5555 non-null   float64\n",
            " 52  CAU          5555 non-null   float64\n",
            " 53  CAC          5555 non-null   float64\n",
            " 54  AAA          5555 non-null   float64\n",
            " 55  AAG          5555 non-null   float64\n",
            " 56  CGU          5555 non-null   float64\n",
            " 57  CGC          5555 non-null   float64\n",
            " 58  CGA          5555 non-null   float64\n",
            " 59  CGG          5555 non-null   float64\n",
            " 60  AGA          5555 non-null   float64\n",
            " 61  AGG          5555 non-null   float64\n",
            " 62  GAU          5555 non-null   float64\n",
            " 63  GAC          5555 non-null   float64\n",
            " 64  GAA          5555 non-null   float64\n",
            " 65  GAG          5555 non-null   float64\n",
            " 66  UAA          5555 non-null   float64\n",
            " 67  UAG          5555 non-null   float64\n",
            " 68  UGA          5555 non-null   float64\n",
            "dtypes: float64(64), int64(3), object(2)\n",
            "memory usage: 3.0+ MB\n"
          ]
        }
      ],
      "source": [
        "df.info()"
      ],
      "id": "X2ANvA307Ycl"
    },
    {
      "cell_type": "markdown",
      "metadata": {
        "id": "lHUjhMFq6MS-"
      },
      "source": [
        "###**Split Data:**"
      ],
      "id": "lHUjhMFq6MS-"
    },
    {
      "cell_type": "code",
      "execution_count": null,
      "metadata": {
        "colab": {
          "base_uri": "https://localhost:8080/"
        },
        "id": "ehQlEaqUryYs",
        "outputId": "876fe596-73e3-49ff-a65d-b270a15a5e93"
      },
      "outputs": [
        {
          "output_type": "execute_result",
          "data": {
            "text/plain": [
              "Index(['Kingdom', 'DNAtype', 'SpeciesID', 'Ncodons', 'SpeciesName', 'UUU',\n",
              "       'UUC', 'UUA', 'UUG', 'CUU', 'CUC', 'CUA', 'CUG', 'AUU', 'AUC', 'AUA',\n",
              "       'AUG', 'GUU', 'GUC', 'GUA', 'GUG', 'GCU', 'GCC', 'GCA', 'GCG', 'CCU',\n",
              "       'CCC', 'CCA', 'CCG', 'UGG', 'GGU', 'GGC', 'GGA', 'GGG', 'UCU', 'UCC',\n",
              "       'UCA', 'UCG', 'AGU', 'AGC', 'ACU', 'ACC', 'ACA', 'ACG', 'UAU', 'UAC',\n",
              "       'CAA', 'CAG', 'AAU', 'AAC', 'UGU', 'UGC', 'CAU', 'CAC', 'AAA', 'AAG',\n",
              "       'CGU', 'CGC', 'CGA', 'CGG', 'AGA', 'AGG', 'GAU', 'GAC', 'GAA', 'GAG',\n",
              "       'UAA', 'UAG', 'UGA'],\n",
              "      dtype='object')"
            ]
          },
          "metadata": {},
          "execution_count": 16
        }
      ],
      "source": [
        "df.columns"
      ],
      "id": "ehQlEaqUryYs"
    },
    {
      "cell_type": "code",
      "execution_count": null,
      "metadata": {
        "colab": {
          "base_uri": "https://localhost:8080/"
        },
        "id": "7o9mlrDArouQ",
        "outputId": "c0944d98-aaa6-42ed-8cef-50e7d9b18d62"
      },
      "outputs": [
        {
          "output_type": "stream",
          "name": "stdout",
          "text": [
            "X:  (5555, 65)\n",
            "y:  (5555,)\n"
          ]
        }
      ],
      "source": [
        "# ทำการแบ่ง feature และ label\n",
        "feature = [\n",
        "       'Ncodons',  'UUU',\n",
        "       'UUC', 'UUA', 'UUG', 'CUU', 'CUC', 'CUA', 'CUG', 'AUU', 'AUC', 'AUA',\n",
        "       'AUG', 'GUU', 'GUC', 'GUA', 'GUG', 'GCU', 'GCC', 'GCA', 'GCG', 'CCU',\n",
        "       'CCC', 'CCA', 'CCG', 'UGG', 'GGU', 'GGC', 'GGA', 'GGG', 'UCU', 'UCC',\n",
        "       'UCA', 'UCG', 'AGU', 'AGC', 'ACU', 'ACC', 'ACA', 'ACG', 'UAU', 'UAC',\n",
        "       'CAA', 'CAG', 'AAU', 'AAC', 'UGU', 'UGC', 'CAU', 'CAC', 'AAA', 'AAG',\n",
        "       'CGU', 'CGC', 'CGA', 'CGG', 'AGA', 'AGG', 'GAU', 'GAC', 'GAA', 'GAG',\n",
        "       'UAA', 'UAG', 'UGA'\n",
        "]\n",
        "\n",
        "X = df[feature]\n",
        "y = df['Kingdom'].values\n",
        "\n",
        "print('X: ', X.shape)\n",
        "print('y: ',y.shape)"
      ],
      "id": "7o9mlrDArouQ"
    },
    {
      "cell_type": "code",
      "execution_count": null,
      "metadata": {
        "colab": {
          "base_uri": "https://localhost:8080/"
        },
        "id": "Kmc1aRrBq1hT",
        "outputId": "0aeed43f-3d01-4aeb-822e-a8b3463b40c7"
      },
      "outputs": [
        {
          "output_type": "stream",
          "name": "stdout",
          "text": [
            "Training set(train.csv): (3333, 65) (3333,)\n",
            "Test set(train.csv): (1111, 65) (1111,)\n",
            "valid set(train.csv): (1111, 65) (1111,)\n",
            "----------------------\n"
          ]
        }
      ],
      "source": [
        "# ทำการแบ่ง data ออกเป็น 3 ส่วนคือ train = 60%, valid=20%, test=20%\n",
        "from sklearn.model_selection import train_test_split\n",
        "X_train, X_cv, y_train, y_cv = train_test_split(X, y, test_size=0.4, random_state=1)\n",
        "X_cv, X_test, y_cv, y_test  = train_test_split(X_cv, y_cv, test_size=0.5, random_state=1)\n",
        "\n",
        "print(f\"Training set(train.csv): {X_train.shape} {y_train.shape}\")\n",
        "print(f\"Test set(train.csv): {X_test.shape} {y_test.shape}\")\n",
        "print(f\"valid set(train.csv): {X_cv.shape} {y_cv.shape}\")\n",
        "print('----------------------')"
      ],
      "id": "Kmc1aRrBq1hT"
    },
    {
      "cell_type": "markdown",
      "metadata": {
        "id": "0y89851KnJT5"
      },
      "source": [
        "#**Data Preprocessing:**\n",
        "\n",
        "\n",
        "```\n",
        "ขั้นตอนการเตรียมชุดข้อมูล ยกตัวอย่างเช่น feature scaling, feature encoding, และวิธีการ feature engineering อื่น ๆ เพื่อให้แน่ใจว่าชุดข้อมูลพร้อมสำหรับการวิเคราะห์และเรียนรู้\n",
        "```\n",
        "\n"
      ],
      "id": "0y89851KnJT5"
    },
    {
      "cell_type": "markdown",
      "source": [
        "**Data Preprocessing:** เราได้ Encode ข้อมูล 'Kingdom' เพื่อให้สามารถนำไปใช้งานในการ predict ข้อมูลได้ จากนั้นเราก็ได้ทำ feature selection เพื่อนำไปทำ model เปรียบเทียบว่า model แบบไหนจะดีกว่ากันระหว่างการ select feature กับ all feature เมื่อเราได้ feature ที่เลือกมาแล้วจึงนำมาแบ่งชุดข้อมูลอีกครั้ง"
      ],
      "metadata": {
        "id": "pEYG5wvHoSWc"
      },
      "id": "pEYG5wvHoSWc"
    },
    {
      "cell_type": "markdown",
      "source": [
        "###**Feature Encoding**"
      ],
      "metadata": {
        "id": "we_QKOWYo-Ng"
      },
      "id": "we_QKOWYo-Ng"
    },
    {
      "cell_type": "code",
      "execution_count": null,
      "metadata": {
        "colab": {
          "base_uri": "https://localhost:8080/"
        },
        "id": "lj9UeijWJeQY",
        "outputId": "be8af4f8-bf4b-493d-f8ed-7390e42cfbab"
      },
      "outputs": [
        {
          "output_type": "stream",
          "name": "stdout",
          "text": [
            "(3333,)\n"
          ]
        }
      ],
      "source": [
        "# ทำการ encode label ให้เป็นตัวเลข\n",
        "from sklearn.preprocessing import LabelEncoder\n",
        "\n",
        "label_encoder = LabelEncoder()\n",
        "label_encoder = label_encoder.fit(y_train)\n",
        "y_train = label_encoder.transform(y_train)\n",
        "\n",
        "print(y_train.shape)"
      ],
      "id": "lj9UeijWJeQY"
    },
    {
      "cell_type": "code",
      "execution_count": null,
      "metadata": {
        "colab": {
          "base_uri": "https://localhost:8080/"
        },
        "id": "__3lrC3G19Dh",
        "outputId": "21f5064d-34c8-4508-e456-ee49189ff06e"
      },
      "outputs": [
        {
          "output_type": "stream",
          "name": "stdout",
          "text": [
            "(1111,)\n"
          ]
        }
      ],
      "source": [
        "# ทำการ encode label ให้เป็นตัวเลข\n",
        "from sklearn.preprocessing import LabelEncoder\n",
        "\n",
        "label_encoder = LabelEncoder()\n",
        "label_encoder = label_encoder.fit(y_cv)\n",
        "y_cv = label_encoder.transform(y_cv)\n",
        "\n",
        "print(y_cv.shape)"
      ],
      "id": "__3lrC3G19Dh"
    },
    {
      "cell_type": "code",
      "source": [
        "# ทำการ encode label ให้เป็นตัวเลข\n",
        "from sklearn.preprocessing import LabelEncoder\n",
        "\n",
        "label_encoder = LabelEncoder()\n",
        "label_encoder = label_encoder.fit(y_test)\n",
        "y_test = label_encoder.transform(y_test)\n",
        "\n",
        "print(y_test.shape)"
      ],
      "metadata": {
        "colab": {
          "base_uri": "https://localhost:8080/"
        },
        "id": "1AbUBjHxpZaz",
        "outputId": "9282efb5-d2b7-47b8-caaa-1b4871a8489f"
      },
      "id": "1AbUBjHxpZaz",
      "execution_count": null,
      "outputs": [
        {
          "output_type": "stream",
          "name": "stdout",
          "text": [
            "(1111,)\n"
          ]
        }
      ]
    },
    {
      "cell_type": "markdown",
      "source": [
        "###**Feature Selection:** "
      ],
      "metadata": {
        "id": "RZL7wbA9gkXq"
      },
      "id": "RZL7wbA9gkXq"
    },
    {
      "cell_type": "markdown",
      "source": [
        "ในส่วนของ Feature selection ได้มีการนำ feature ที่เป็นประเภทต่างๆ ของหน่วยพันธุกรรมนั้นมาทำ feature selection เพื่อหา feature ที่ส่งมีต่อการ predict ด้วยวิธีการทำ ANOVA เนื่องจาก feature ของหน่วยพันธุกรรมนั้นเป็น numerical"
      ],
      "metadata": {
        "id": "5ro4atnz7VaW"
      },
      "id": "5ro4atnz7VaW"
    },
    {
      "cell_type": "code",
      "execution_count": null,
      "metadata": {
        "id": "XY4bs5ZSSMY6",
        "colab": {
          "base_uri": "https://localhost:8080/"
        },
        "outputId": "20e71700-ea84-44fa-b136-86ebfca3d324"
      },
      "outputs": [
        {
          "output_type": "stream",
          "name": "stdout",
          "text": [
            "Keep: [False False False False False False False False False False False False\n",
            " False False False False False False False  True  True False  True False\n",
            " False False False False False False False False False False False False\n",
            " False False False False False False False False False  True False False\n",
            " False False False False False False False False  True False False False\n",
            " False False False False]\n",
            "Index(['GCG', 'CCU', 'CCA', 'UGU', 'AGG'], dtype='object')\n"
          ]
        },
        {
          "output_type": "stream",
          "name": "stderr",
          "text": [
            "/usr/local/lib/python3.9/dist-packages/sklearn/utils/validation.py:1143: DataConversionWarning: A column-vector y was passed when a 1d array was expected. Please change the shape of y to (n_samples, ), for example using ravel().\n",
            "  y = column_or_1d(y, warn=True)\n"
          ]
        }
      ],
      "source": [
        "from sklearn.feature_selection import SelectKBest\n",
        "from sklearn.feature_selection import f_classif\n",
        "\n",
        "num_cols = ['UUU','UUC', 'UUA', 'UUG', 'CUU', 'CUC', 'CUA', 'CUG', 'AUU', 'AUC', 'AUA',\n",
        "       'AUG', 'GUU', 'GUC', 'GUA', 'GUG', 'GCU', 'GCC', 'GCA', 'GCG', 'CCU',\n",
        "       'CCC', 'CCA', 'CCG', 'UGG', 'GGU', 'GGC', 'GGA', 'GGG', 'UCU', 'UCC',\n",
        "       'UCA', 'UCG', 'AGU', 'AGC', 'ACU', 'ACC', 'ACA', 'ACG', 'UAU', 'UAC',\n",
        "       'CAA', 'CAG', 'AAU', 'AAC', 'UGU', 'UGC', 'CAU', 'CAC', 'AAA', 'AAG',\n",
        "       'CGU', 'CGC', 'CGA', 'CGG', 'AGA', 'AGG', 'GAU', 'GAC', 'GAA', 'GAG',\n",
        "       'UAA', 'UAG', 'UGA']\n",
        "\n",
        "label_col = ['Kingdom']\n",
        "\n",
        "X_num = df[num_cols]\n",
        "y = df[label_col]\n",
        "\n",
        "fs = SelectKBest(score_func=f_classif, k=5)\n",
        "fs.fit(X_num, y)\n",
        "X_selected = fs.transform(X_num)\n",
        "\n",
        "print(f'Keep: {fs.get_support()}')\n",
        "\n",
        "selected_features_indices = np.where(fs.get_support())[0]\n",
        "\n",
        "selected_features_names = X_num.iloc[:, selected_features_indices].columns\n",
        "\n",
        "print(selected_features_names)"
      ],
      "id": "XY4bs5ZSSMY6"
    },
    {
      "cell_type": "markdown",
      "metadata": {
        "id": "Obwt4xe_gvlz"
      },
      "source": [
        "###**Split Data After Select Feature:**"
      ],
      "id": "Obwt4xe_gvlz"
    },
    {
      "cell_type": "code",
      "execution_count": null,
      "metadata": {
        "colab": {
          "base_uri": "https://localhost:8080/"
        },
        "outputId": "a2a0ec19-6b34-4c1d-8277-11a419ad31da",
        "id": "sNq3ASrogvlz"
      },
      "outputs": [
        {
          "output_type": "stream",
          "name": "stdout",
          "text": [
            "X:  (5555, 5)\n",
            "y:  (5555,)\n"
          ]
        }
      ],
      "source": [
        "# ทำการแบ่ง feature และ label\n",
        "feature1 = ['GCG', 'CCU', 'CCA', 'UGU', 'AGG']\n",
        "\n",
        "XF = df[feature1]\n",
        "yF = df['Kingdom'].values\n",
        "\n",
        "print('X: ', XF.shape)\n",
        "print('y: ',yF.shape)"
      ],
      "id": "sNq3ASrogvlz"
    },
    {
      "cell_type": "code",
      "execution_count": null,
      "metadata": {
        "colab": {
          "base_uri": "https://localhost:8080/"
        },
        "outputId": "dfc387ab-ce84-457b-ec33-2ae344f1153f",
        "id": "Ov9YRxfDhSjB"
      },
      "outputs": [
        {
          "output_type": "stream",
          "name": "stdout",
          "text": [
            "Training set(train.csv): (3333, 5) (3333,)\n",
            "Test set(train.csv): (1111, 5) (1111,)\n",
            "valid set(train.csv): (1111, 5) (1111,)\n",
            "----------------------\n"
          ]
        }
      ],
      "source": [
        "# ทำการแบ่ง data ออกเป็น 3 ส่วนจาก data ที่เรา select feature มาแบ่งเป็น train = 60%, valid=20%, test=20%\n",
        "from sklearn.model_selection import train_test_split\n",
        "X_train1, X_cv1, y_train1, y_cv1 = train_test_split(XF, yF, test_size=0.4, random_state=1)\n",
        "X_cv1, X_test1, y_cv1, y_test1  = train_test_split(X_cv1, y_cv1, test_size=0.5, random_state=1)\n",
        "\n",
        "print(f\"Training set(train.csv): {X_train1.shape} {y_train1.shape}\")\n",
        "print(f\"Test set(train.csv): {X_test1.shape} {y_test1.shape}\")\n",
        "print(f\"valid set(train.csv): {X_cv1.shape} {y_cv1.shape}\")\n",
        "print('----------------------')"
      ],
      "id": "Ov9YRxfDhSjB"
    },
    {
      "cell_type": "markdown",
      "metadata": {
        "id": "5Wgmgb7_nJlG"
      },
      "source": [
        "#**Model Selection:**\n",
        "\n",
        "\n",
        "```\n",
        "ทำการทดลองเพื่อเลือก settings ที่เหมาะสม ให้ใช้ข้อมูลชุด validation สำหรับการเก็บผลการทดลอง เพื่อให้ทราบถึงปัญหาของ overfitting หรือ underfitting จากนั้นให้ตัดสินใจวิธีการในการแก้ปัญหา นอกจากกนี้การทำ error analysis \n",
        "โดยการนำเอาผลลัพธ์ที่ผิดพลาดมาวิเคราะห์อาจช่วยให้คุณตัดสินใจการแก้ปัญหาต่อไปได้ ในขั้นตอนนี้ให้คุณปรับแต่งค่าต่าง ๆ ดังต่อไปนี้\n",
        "    1. Feature engineering (feature scaling, feature encoding, or other feature engineering methods)\n",
        "    2. Feature selection\n",
        "    \n",
        "    Evaluation metrics (การวัดผลจะต้องใช้การวัดผลที่เหมาะสมกับงาน)\n",
        "    \n",
        "    1. Regression: MSE, RMSE, MAE, MAPE, etc.\n",
        "    2. Classification: Accuracy, Precision, Recall, F1-score, etc.\n",
        "```\n",
        "\n"
      ],
      "id": "5Wgmgb7_nJlG"
    },
    {
      "cell_type": "markdown",
      "source": [
        "**Model Selection:** \n",
        "\n",
        "\n",
        "1.   Select All Feature\n",
        "          LogisticRegression: จาก Learning curve ที่เราได้ plot ออกมาดูเราจะเห็นว่า ข้อมูลไปในทิศทางที่ค่อนข้างขนานกันไปและยังสูงขึ้นเรื่อยๆ ไม่ได้มี Underfit หรือ Overfit ทำให้เราสามารถเลือก degree ที่มีประสิทธิภาพสูงมาใช้ได้เลย\n",
        "          Random Forest: จากกราฟที่ plot ได้จะเห็นได้ว่าในตอนเเรกจะมีลักษณะของ underfit เเล้วค่าของตัวกราฟจะมีค่าที่ค่อยๆเพิ่มขึ้นเรื่อยๆทั้งสองตัวเเละจะเริ่มคงที่ดังนั้นจึงนำค่า n_estimators ที่มีค่าบน valid สูงมาทำการสร้าง model\n",
        "          Decition Tree: จาก Learning Curve จะเห็นว่า ค่าในช่วงแรกข้อมูลมีการ undefitting แต่เมื่อค่าทั้งสองเพิ่มขึ้นในจังหวะหนึ่ค่าทั้งสองก็เริ่มมีค่าคงที่และกราฟขนานกัน\n",
        "2.   Select Feature\n",
        "          LogisticRegression: จาก Learning curve ที่เราได้ plot ออกมาดูเราจะเห็นว่า ข้อมูลไปในทิศทางที่เป็นเส้นตรงแทบจะขนานกันไปเลย ไม่ได้มี Underfit หรือ Overfit แต่ประสิทธิภาพในการ predict ก็ยังไม่ค่อนน่าพอใจเท่าที่ควร\n",
        "          Random Forest: จากกราฟที่ plot ได้จะเห็นได้ว่าในตอนเเรกจะมีลักษณะของ underfit  เเล้วค่าของตัวกราฟจะมีค่าที่ค่อยๆเพิ่มขึ้นเเต่ในส่วนของตัว valid นั้นค่อนข้างที่จะไม่มีประสิธิภาพเนื่องจากยังคงมีค่า accuracy ที่ค่อนข้างต่ำเเต่ก็ยังคงที่อยู่ ทำให้ผลที่ได้จากการสร้าง model นั้นมีค่า accuracy ที่ค่อนข้างต่ำ\n",
        "          Decition Tree: จาก Learning Curve จะเห็นว่า ค่าในช่วงแรกข้อมูลมีการ under fitting และเมื่อค่าทั้งสองเพิ่มขึ้นและในจังหวะหนึงค่าที่ค่า train เพิ่มขึ้นเรื่อยๆแบบเฉียงขึ้น ค่า valid กลับมีการลดต่ำลงเล็กน้อย และเมื่อค่า train ตงที่ ค่า valid ก็คงที่ อาจจะอนุมานได้ว่า เกิดการ overfitting เกิดขึ้น\n",
        "\n"
      ],
      "metadata": {
        "id": "4WM1Mp1Rq0Wh"
      },
      "id": "4WM1Mp1Rq0Wh"
    },
    {
      "cell_type": "markdown",
      "source": [
        "##**Select All Feature**"
      ],
      "metadata": {
        "id": "-B3hh8JocTsV"
      },
      "id": "-B3hh8JocTsV"
    },
    {
      "cell_type": "markdown",
      "metadata": {
        "id": "o1bUWvJzDamu"
      },
      "source": [
        "###**LogisticRegression**"
      ],
      "id": "o1bUWvJzDamu"
    },
    {
      "cell_type": "code",
      "execution_count": null,
      "metadata": {
        "colab": {
          "base_uri": "https://localhost:8080/"
        },
        "id": "wqSPiHwQ8Jeu",
        "outputId": "baa31f62-db9d-4415-95e2-aee48d7b949d"
      },
      "outputs": [
        {
          "output_type": "stream",
          "name": "stdout",
          "text": [
            "              precision    recall  f1-score   support\n",
            "\n",
            "           0       0.59      0.50      0.54        20\n",
            "           1       0.88      0.95      0.91       343\n",
            "           2       0.75      0.66      0.70       133\n",
            "           3       0.50      0.08      0.14        12\n",
            "           4       0.50      0.05      0.09        21\n",
            "           5       0.00      0.00      0.00         3\n",
            "           6       0.83      0.86      0.85       233\n",
            "           7       0.00      0.00      0.00        14\n",
            "           8       0.00      0.00      0.00         5\n",
            "           9       0.83      0.92      0.87       254\n",
            "          10       0.68      0.74      0.71        73\n",
            "\n",
            "    accuracy                           0.82      1111\n",
            "   macro avg       0.50      0.43      0.44      1111\n",
            "weighted avg       0.79      0.82      0.80      1111\n",
            "\n"
          ]
        },
        {
          "output_type": "stream",
          "name": "stderr",
          "text": [
            "/usr/local/lib/python3.9/dist-packages/sklearn/linear_model/_logistic.py:458: ConvergenceWarning: lbfgs failed to converge (status=1):\n",
            "STOP: TOTAL NO. of ITERATIONS REACHED LIMIT.\n",
            "\n",
            "Increase the number of iterations (max_iter) or scale the data as shown in:\n",
            "    https://scikit-learn.org/stable/modules/preprocessing.html\n",
            "Please also refer to the documentation for alternative solver options:\n",
            "    https://scikit-learn.org/stable/modules/linear_model.html#logistic-regression\n",
            "  n_iter_i = _check_optimize_result(\n",
            "/usr/local/lib/python3.9/dist-packages/sklearn/metrics/_classification.py:1344: UndefinedMetricWarning: Precision and F-score are ill-defined and being set to 0.0 in labels with no predicted samples. Use `zero_division` parameter to control this behavior.\n",
            "  _warn_prf(average, modifier, msg_start, len(result))\n",
            "/usr/local/lib/python3.9/dist-packages/sklearn/metrics/_classification.py:1344: UndefinedMetricWarning: Precision and F-score are ill-defined and being set to 0.0 in labels with no predicted samples. Use `zero_division` parameter to control this behavior.\n",
            "  _warn_prf(average, modifier, msg_start, len(result))\n",
            "/usr/local/lib/python3.9/dist-packages/sklearn/metrics/_classification.py:1344: UndefinedMetricWarning: Precision and F-score are ill-defined and being set to 0.0 in labels with no predicted samples. Use `zero_division` parameter to control this behavior.\n",
            "  _warn_prf(average, modifier, msg_start, len(result))\n"
          ]
        }
      ],
      "source": [
        "## import library ต่างๆเข้ามาใช้งาน\n",
        "from sklearn.pipeline import Pipeline\n",
        "from sklearn.linear_model import LogisticRegression\n",
        "from sklearn.metrics import classification_report\n",
        "from sklearn.compose import ColumnTransformer\n",
        "from sklearn.preprocessing import MinMaxScaler\n",
        "\n",
        "#เตรียมชิ้นส่วนเพื่อใช้งานใน Pipeline\n",
        "ct = ColumnTransformer([\n",
        "    ('p_con', MinMaxScaler(),[0, 1, 2, 3, 4, 5, 6, 7, 8, 9, 10, 11, 12, 13, 14, 15, 16, 17, 18, 19, 20, 21, 22, 23, 24, 25, 26, 27, 28, 29, 30, 31, 32, 33, 34, 35, 36, 37, 38, 39, 40, 41, 42, 43, 44, 45, 46, 47, 48, 49, 50, 51, 52, 53, 54, 55, 56, 57, 58, 59, 60, 61, 62, 63, 64])\n",
        "])\n",
        "\n",
        "model = LogisticRegression()     #สร้าง model โดยใช้ LogisticRegression() เป็นค่า default\n",
        "\n",
        "#สร้าง pipeline โดยใช้ ColumnTransformer และ model ที่เราได้กำหนดไว้\n",
        "pipeline = Pipeline(steps=[\n",
        "    ('Preprocessing', ct),\n",
        "    ('Modeling', model)\n",
        "])\n",
        "\n",
        "pipeline.fit(X_train, y_train)                 #เรียนรู้ Parameters ต่าง ๆ ใน Pipeline\n",
        "predictions = pipeline.predict(X_cv)       #ทำการ predict \n",
        "\n",
        "print(classification_report(y_cv, predictions))"
      ],
      "id": "wqSPiHwQ8Jeu"
    },
    {
      "cell_type": "code",
      "execution_count": null,
      "metadata": {
        "colab": {
          "base_uri": "https://localhost:8080/"
        },
        "id": "rFE3RyhKhr9h",
        "outputId": "35ed83d4-d7d3-43c8-8736-f7f0f6df83d4"
      },
      "outputs": [
        {
          "output_type": "stream",
          "name": "stderr",
          "text": [
            "/usr/local/lib/python3.9/dist-packages/sklearn/linear_model/_logistic.py:458: ConvergenceWarning: lbfgs failed to converge (status=1):\n",
            "STOP: TOTAL NO. of ITERATIONS REACHED LIMIT.\n",
            "\n",
            "Increase the number of iterations (max_iter) or scale the data as shown in:\n",
            "    https://scikit-learn.org/stable/modules/preprocessing.html\n",
            "Please also refer to the documentation for alternative solver options:\n",
            "    https://scikit-learn.org/stable/modules/linear_model.html#logistic-regression\n",
            "  n_iter_i = _check_optimize_result(\n",
            "/usr/local/lib/python3.9/dist-packages/sklearn/linear_model/_logistic.py:458: ConvergenceWarning: lbfgs failed to converge (status=1):\n",
            "STOP: TOTAL NO. of ITERATIONS REACHED LIMIT.\n",
            "\n",
            "Increase the number of iterations (max_iter) or scale the data as shown in:\n",
            "    https://scikit-learn.org/stable/modules/preprocessing.html\n",
            "Please also refer to the documentation for alternative solver options:\n",
            "    https://scikit-learn.org/stable/modules/linear_model.html#logistic-regression\n",
            "  n_iter_i = _check_optimize_result(\n",
            "/usr/local/lib/python3.9/dist-packages/sklearn/linear_model/_logistic.py:458: ConvergenceWarning: lbfgs failed to converge (status=1):\n",
            "STOP: TOTAL NO. of ITERATIONS REACHED LIMIT.\n",
            "\n",
            "Increase the number of iterations (max_iter) or scale the data as shown in:\n",
            "    https://scikit-learn.org/stable/modules/preprocessing.html\n",
            "Please also refer to the documentation for alternative solver options:\n",
            "    https://scikit-learn.org/stable/modules/linear_model.html#logistic-regression\n",
            "  n_iter_i = _check_optimize_result(\n"
          ]
        },
        {
          "output_type": "stream",
          "name": "stdout",
          "text": [
            "[0.8427842784278428, 0.9285928592859286, 0.9636963696369637]\n",
            "[0.8235823582358236, 0.8964896489648965, 0.9216921692169217]\n"
          ]
        }
      ],
      "source": [
        "# การสร้าง model LogisticRegression โดยที่เราจะวลลูปหาค่า degree ที่จะให้ผล accuracy ที่มากที่สุด\n",
        "from sklearn.preprocessing import PolynomialFeatures\n",
        "from sklearn.metrics import accuracy_score\n",
        "from sklearn.compose import ColumnTransformer\n",
        "from sklearn.pipeline import Pipeline\n",
        "from sklearn.linear_model import LogisticRegression\n",
        "\n",
        "model = LogisticRegression()\n",
        "list_T = []  #สร้าง list ไว้เก็บ accuracy ของ train\n",
        "list_V = []  #สร้าง list ไว้เก็บ accuracy ของ valid\n",
        "\n",
        "for i in range(3):\n",
        "    model = LogisticRegression()\n",
        "\n",
        "    pipeline = Pipeline(steps=[\n",
        "        ('Preprocessing', ct),\n",
        "        ('Polynomial', PolynomialFeatures(degree=i + 1 )),  # Set degree to i + 1\n",
        "        ('Modeling', model)\n",
        "    ])\n",
        "\n",
        "    pipeline.fit(X_train, y_train)\n",
        "    predictions = pipeline.predict(X_cv)\n",
        "    predictions2 = pipeline.predict(X_train)\n",
        "    \n",
        "    list_T.append(accuracy_score(y_train, predictions2))\n",
        "    list_V.append(accuracy_score(y_cv, predictions))\n",
        "\n",
        "print(list_T)\n",
        "print(list_V)\n"
      ],
      "id": "rFE3RyhKhr9h"
    },
    {
      "cell_type": "code",
      "execution_count": null,
      "metadata": {
        "colab": {
          "base_uri": "https://localhost:8080/",
          "height": 807
        },
        "id": "OxGRQ-zkifOq",
        "outputId": "41e3f0ea-ad0f-4b2f-e68c-07bfa560e75f"
      },
      "outputs": [
        {
          "output_type": "display_data",
          "data": {
            "text/plain": [
              "<Figure size 1000x800 with 1 Axes>"
            ],
            "image/png": "[encoded data removed]"
          },
          "metadata": {}
        }
      ],
      "source": [
        "# การ plot graph\n",
        "fig, ax = plt.subplots(1,1, figsize=(10,8))\n",
        "\n",
        "cpts = list(range(1, len(list_T)+1))  # Update cpts to match the length of list_T\n",
        "ax.plot(\n",
        "    cpts, list_T, marker='o', label=\"train accuracy\", lw=2, color=\"blue\")\n",
        "ax.plot(\n",
        "    cpts, list_V,    marker='o', label=\"valid accuracy\", lw=2, color=\"orange\")\n",
        "ax.set_xlabel(\"degree\")\n",
        "ax.set_ylabel(\"accuracy\")\n",
        "ax.legend()\n",
        "ax.set_title(\"accuracy vs poly degree\")\n",
        "plt.tight_layout()\n",
        "plt.show()\n",
        "plt.close('all')\n"
      ],
      "id": "OxGRQ-zkifOq"
    },
    {
      "cell_type": "code",
      "execution_count": null,
      "metadata": {
        "colab": {
          "base_uri": "https://localhost:8080/"
        },
        "id": "7vr_Uwe6aLqK",
        "outputId": "9ecaa8fa-6dd7-4fdd-8fd3-3b045d9ab0ea"
      },
      "outputs": [
        {
          "output_type": "stream",
          "name": "stdout",
          "text": [
            "0.9216921692169217\n"
          ]
        }
      ],
      "source": [
        "# การเก็บค่าสูงสุดของ accuracy\n",
        "max_valid0 = max(list_V)\n",
        "print(max_valid0)"
      ],
      "id": "7vr_Uwe6aLqK"
    },
    {
      "cell_type": "code",
      "execution_count": null,
      "metadata": {
        "colab": {
          "base_uri": "https://localhost:8080/"
        },
        "id": "QBfc8Fsrabue",
        "outputId": "59c066ef-3228-4e23-e29f-fdc5d40da701"
      },
      "outputs": [
        {
          "output_type": "stream",
          "name": "stdout",
          "text": [
            "2\n"
          ]
        }
      ],
      "source": [
        "#การหา index ของ accuracy ตัวนั้น\n",
        "Pdegree = list_V.index(max_valid0)\n",
        "print(Pdegree)"
      ],
      "id": "QBfc8Fsrabue"
    },
    {
      "cell_type": "code",
      "execution_count": null,
      "metadata": {
        "colab": {
          "base_uri": "https://localhost:8080/"
        },
        "id": "rCalsZiTawyB",
        "outputId": "03808e69-c766-4f4e-abab-838f9d68f209"
      },
      "outputs": [
        {
          "output_type": "stream",
          "name": "stderr",
          "text": [
            "/usr/local/lib/python3.9/dist-packages/sklearn/linear_model/_logistic.py:458: ConvergenceWarning: lbfgs failed to converge (status=1):\n",
            "STOP: TOTAL NO. of ITERATIONS REACHED LIMIT.\n",
            "\n",
            "Increase the number of iterations (max_iter) or scale the data as shown in:\n",
            "    https://scikit-learn.org/stable/modules/preprocessing.html\n",
            "Please also refer to the documentation for alternative solver options:\n",
            "    https://scikit-learn.org/stable/modules/linear_model.html#logistic-regression\n",
            "  n_iter_i = _check_optimize_result(\n"
          ]
        },
        {
          "output_type": "stream",
          "name": "stdout",
          "text": [
            "              precision    recall  f1-score   support\n",
            "\n",
            "           0       0.85      0.85      0.85        20\n",
            "           1       0.94      0.98      0.96       343\n",
            "           2       0.89      0.91      0.90       133\n",
            "           3       0.50      0.33      0.40        12\n",
            "           4       0.79      0.52      0.63        21\n",
            "           5       0.00      0.00      0.00         3\n",
            "           6       0.97      0.92      0.95       233\n",
            "           7       0.88      0.50      0.64        14\n",
            "           8       0.67      0.80      0.73         5\n",
            "           9       0.92      0.96      0.94       254\n",
            "          10       0.86      0.90      0.88        73\n",
            "\n",
            "    accuracy                           0.92      1111\n",
            "   macro avg       0.75      0.70      0.72      1111\n",
            "weighted avg       0.92      0.92      0.92      1111\n",
            "\n"
          ]
        },
        {
          "output_type": "stream",
          "name": "stderr",
          "text": [
            "/usr/local/lib/python3.9/dist-packages/sklearn/metrics/_classification.py:1344: UndefinedMetricWarning: Precision and F-score are ill-defined and being set to 0.0 in labels with no predicted samples. Use `zero_division` parameter to control this behavior.\n",
            "  _warn_prf(average, modifier, msg_start, len(result))\n",
            "/usr/local/lib/python3.9/dist-packages/sklearn/metrics/_classification.py:1344: UndefinedMetricWarning: Precision and F-score are ill-defined and being set to 0.0 in labels with no predicted samples. Use `zero_division` parameter to control this behavior.\n",
            "  _warn_prf(average, modifier, msg_start, len(result))\n",
            "/usr/local/lib/python3.9/dist-packages/sklearn/metrics/_classification.py:1344: UndefinedMetricWarning: Precision and F-score are ill-defined and being set to 0.0 in labels with no predicted samples. Use `zero_division` parameter to control this behavior.\n",
            "  _warn_prf(average, modifier, msg_start, len(result))\n"
          ]
        }
      ],
      "source": [
        "# การทดสอบ model โดยใช้ค่า degree ที่ดีที่สุดที่เราหามา\n",
        "model = LogisticRegression()\n",
        "\n",
        "pipeline = Pipeline(steps=[\n",
        "        ('Preprocessing', ct),\n",
        "        ('Polynomial', PolynomialFeatures(degree = 3 )), \n",
        "        ('Modeling', model)\n",
        "])\n",
        "\n",
        "pipeline.fit(X_train, y_train)\n",
        "predictions = pipeline.predict(X_cv)\n",
        "print(classification_report(y_cv, predictions )) \n"
      ],
      "id": "rCalsZiTawyB"
    },
    {
      "cell_type": "markdown",
      "metadata": {
        "id": "ZtuN228F-F0f"
      },
      "source": [
        "###**Random Forest**"
      ],
      "id": "ZtuN228F-F0f"
    },
    {
      "cell_type": "code",
      "execution_count": null,
      "metadata": {
        "colab": {
          "base_uri": "https://localhost:8080/",
          "height": 1000
        },
        "id": "66bfe934",
        "outputId": "ab91d792-1c62-46da-d9c9-2693ec4adb01"
      },
      "outputs": [
        {
          "output_type": "stream",
          "name": "stdout",
          "text": [
            ">1, train: 0.874, valid: 0.635\n",
            ">2, train: 0.869, valid: 0.627\n",
            ">3, train: 0.949, valid: 0.704\n",
            ">4, train: 0.967, valid: 0.746\n",
            ">5, train: 0.981, valid: 0.784\n",
            ">6, train: 0.984, valid: 0.794\n",
            ">7, train: 0.990, valid: 0.806\n",
            ">8, train: 0.992, valid: 0.815\n",
            ">9, train: 0.995, valid: 0.826\n",
            ">10, train: 0.996, valid: 0.824\n",
            ">11, train: 0.998, valid: 0.833\n",
            ">12, train: 0.999, valid: 0.836\n",
            ">13, train: 0.998, valid: 0.840\n",
            ">14, train: 0.998, valid: 0.845\n",
            ">15, train: 0.998, valid: 0.847\n",
            ">16, train: 0.998, valid: 0.850\n",
            ">17, train: 0.999, valid: 0.857\n",
            ">18, train: 0.999, valid: 0.853\n",
            ">19, train: 0.999, valid: 0.860\n",
            ">20, train: 0.999, valid: 0.860\n",
            ">21, train: 0.999, valid: 0.863\n",
            ">22, train: 0.999, valid: 0.860\n",
            ">23, train: 0.999, valid: 0.860\n",
            ">24, train: 0.999, valid: 0.855\n",
            ">25, train: 1.000, valid: 0.863\n",
            ">26, train: 1.000, valid: 0.862\n",
            ">27, train: 1.000, valid: 0.865\n",
            ">28, train: 1.000, valid: 0.864\n",
            ">29, train: 1.000, valid: 0.865\n",
            ">30, train: 1.000, valid: 0.860\n",
            ">31, train: 1.000, valid: 0.860\n",
            ">32, train: 1.000, valid: 0.865\n",
            ">33, train: 1.000, valid: 0.861\n",
            ">34, train: 1.000, valid: 0.865\n",
            ">35, train: 1.000, valid: 0.861\n",
            ">36, train: 1.000, valid: 0.867\n",
            ">37, train: 1.000, valid: 0.862\n",
            ">38, train: 1.000, valid: 0.866\n",
            ">39, train: 1.000, valid: 0.867\n",
            ">40, train: 1.000, valid: 0.866\n",
            ">41, train: 1.000, valid: 0.869\n",
            ">42, train: 1.000, valid: 0.869\n",
            ">43, train: 1.000, valid: 0.873\n",
            ">44, train: 1.000, valid: 0.874\n",
            ">45, train: 1.000, valid: 0.870\n",
            ">46, train: 1.000, valid: 0.871\n",
            ">47, train: 1.000, valid: 0.875\n",
            ">48, train: 1.000, valid: 0.876\n",
            ">49, train: 1.000, valid: 0.874\n",
            ">50, train: 1.000, valid: 0.873\n",
            ">51, train: 1.000, valid: 0.875\n",
            ">52, train: 1.000, valid: 0.872\n",
            ">53, train: 1.000, valid: 0.870\n",
            ">54, train: 1.000, valid: 0.871\n",
            ">55, train: 1.000, valid: 0.873\n",
            ">56, train: 1.000, valid: 0.872\n",
            ">57, train: 1.000, valid: 0.872\n",
            ">58, train: 1.000, valid: 0.872\n",
            ">59, train: 1.000, valid: 0.872\n",
            ">60, train: 1.000, valid: 0.874\n",
            ">61, train: 1.000, valid: 0.871\n",
            ">62, train: 1.000, valid: 0.872\n",
            ">63, train: 1.000, valid: 0.871\n",
            ">64, train: 1.000, valid: 0.872\n",
            ">65, train: 1.000, valid: 0.870\n",
            ">66, train: 1.000, valid: 0.875\n",
            ">67, train: 1.000, valid: 0.873\n",
            ">68, train: 1.000, valid: 0.871\n",
            ">69, train: 1.000, valid: 0.872\n",
            ">70, train: 1.000, valid: 0.875\n",
            ">71, train: 1.000, valid: 0.878\n",
            ">72, train: 1.000, valid: 0.875\n",
            ">73, train: 1.000, valid: 0.876\n",
            ">74, train: 1.000, valid: 0.876\n",
            ">75, train: 1.000, valid: 0.874\n",
            ">76, train: 1.000, valid: 0.875\n",
            ">77, train: 1.000, valid: 0.875\n",
            ">78, train: 1.000, valid: 0.874\n",
            ">79, train: 1.000, valid: 0.874\n",
            ">80, train: 1.000, valid: 0.873\n",
            ">81, train: 1.000, valid: 0.873\n",
            ">82, train: 1.000, valid: 0.876\n",
            ">83, train: 1.000, valid: 0.876\n",
            ">84, train: 1.000, valid: 0.878\n",
            ">85, train: 1.000, valid: 0.878\n",
            ">86, train: 1.000, valid: 0.875\n",
            ">87, train: 1.000, valid: 0.876\n",
            ">88, train: 1.000, valid: 0.877\n",
            ">89, train: 1.000, valid: 0.876\n",
            ">90, train: 1.000, valid: 0.875\n",
            ">91, train: 1.000, valid: 0.875\n",
            ">92, train: 1.000, valid: 0.875\n",
            ">93, train: 1.000, valid: 0.876\n",
            ">94, train: 1.000, valid: 0.876\n",
            ">95, train: 1.000, valid: 0.877\n",
            ">96, train: 1.000, valid: 0.875\n",
            ">97, train: 1.000, valid: 0.876\n",
            ">98, train: 1.000, valid: 0.878\n",
            ">99, train: 1.000, valid: 0.878\n",
            ">100, train: 1.000, valid: 0.878\n"
          ]
        },
        {
          "output_type": "display_data",
          "data": {
            "text/plain": [
              "<Figure size 640x480 with 1 Axes>"
            ],
            "image/png": "[encoded data removed]"
          },
          "metadata": {}
        }
      ],
      "source": [
        "# การวนลูปหาค่า n_estimators ที่ดีที่สุด\n",
        "from sklearn.metrics import accuracy_score\n",
        "from matplotlib import pyplot\n",
        "from sklearn.ensemble import RandomForestClassifier\n",
        "\n",
        "train_scores = [] #สร้าง list ไว้เก็บ accuracy ของ train\n",
        "valid_scores = [] #สร้าง list ไว้เก็บ accuracy ของ valid\n",
        "\n",
        "values = [i for i in range(1, 101)]\n",
        "for i in values:\n",
        "   #เนื่องจาก n_estimators สามารถเปลี่ยนแปลงเพื่อหาค่าที่ดีที่สุดได้ เลย set ให้เท่ากับ i แล้ววนเก็บค่าเข้า list\n",
        "   modell = RandomForestClassifier(n_estimators=i,random_state=1) \n",
        "   modell.fit(X_train, y_train)\n",
        "\n",
        "   train_predict = modell.predict(X_train)\n",
        "   train_acc = accuracy_score(y_train, train_predict)\n",
        "   train_scores.append(train_acc)\n",
        "\n",
        "   valid_predict = modell.predict(X_cv)\n",
        "   valid_acc = accuracy_score(y_cv, valid_predict)\n",
        "   valid_scores.append(valid_acc)\n",
        "\n",
        "   print('>%d, train: %.3f, valid: %.3f' % (i, train_acc,valid_acc))\n",
        "\n",
        "# นำมา plot graph ระหว่าง tain กับ valid\n",
        "pyplot.plot(values, train_scores, '-o', label='Train')\n",
        "pyplot.plot(values, valid_scores, '-o', label='Valid')\n",
        "pyplot.legend()\n",
        "pyplot.show()"
      ],
      "id": "66bfe934"
    },
    {
      "cell_type": "code",
      "execution_count": null,
      "metadata": {
        "colab": {
          "base_uri": "https://localhost:8080/"
        },
        "id": "sH9rEwifD_Ux",
        "outputId": "e12f3992-6abf-48fa-a777-32cf01c6659b"
      },
      "outputs": [
        {
          "output_type": "stream",
          "name": "stdout",
          "text": [
            "0.8784878487848785\n"
          ]
        }
      ],
      "source": [
        "# การเก็บค่าสูงสุดของ accuracy\n",
        "max_valid = max(valid_scores)\n",
        "print(max_valid)"
      ],
      "id": "sH9rEwifD_Ux"
    },
    {
      "cell_type": "code",
      "execution_count": null,
      "metadata": {
        "colab": {
          "base_uri": "https://localhost:8080/"
        },
        "id": "-mGZRO3sEB2G",
        "outputId": "c35bab52-f470-458b-d931-5f8791bfac22"
      },
      "outputs": [
        {
          "output_type": "execute_result",
          "data": {
            "text/plain": [
              "84"
            ]
          },
          "metadata": {},
          "execution_count": 33
        }
      ],
      "source": [
        "# การหา index ของ accuracy ตัวนั้น\n",
        "valid_scores.index(max_valid)"
      ],
      "id": "-mGZRO3sEB2G"
    },
    {
      "cell_type": "code",
      "execution_count": null,
      "metadata": {
        "colab": {
          "base_uri": "https://localhost:8080/",
          "height": 74
        },
        "id": "dkXszefzEDri",
        "outputId": "268c20c9-c409-46a1-b96c-4d542f9103ad"
      },
      "outputs": [
        {
          "output_type": "execute_result",
          "data": {
            "text/plain": [
              "RandomForestClassifier(n_estimators=84, random_state=1)"
            ],
            "text/html": [
              "<style>#sk-container-id-1 {color: black;background-color: white;}#sk-container-id-1 pre{padding: 0;}#sk-container-id-1 div.sk-toggleable {background-color: white;}#sk-container-id-1 label.sk-toggleable__label {cursor: pointer;display: block;width: 100%;margin-bottom: 0;padding: 0.3em;box-sizing: border-box;text-align: center;}#sk-container-id-1 label.sk-toggleable__label-arrow:before {content: \"▸\";float: left;margin-right: 0.25em;color: #696969;}#sk-container-id-1 label.sk-toggleable__label-arrow:hover:before {color: black;}#sk-container-id-1 div.sk-estimator:hover label.sk-toggleable__label-arrow:before {color: black;}#sk-container-id-1 div.sk-toggleable__content {max-height: 0;max-width: 0;overflow: hidden;text-align: left;background-color: #f0f8ff;}#sk-container-id-1 div.sk-toggleable__content pre {margin: 0.2em;color: black;border-radius: 0.25em;background-color: #f0f8ff;}#sk-container-id-1 input.sk-toggleable__control:checked~div.sk-toggleable__content {max-height: 200px;max-width: 100%;overflow: auto;}#sk-container-id-1 input.sk-toggleable__control:checked~label.sk-toggleable__label-arrow:before {content: \"▾\";}#sk-container-id-1 div.sk-estimator input.sk-toggleable__control:checked~label.sk-toggleable__label {background-color: #d4ebff;}#sk-container-id-1 div.sk-label input.sk-toggleable__control:checked~label.sk-toggleable__label {background-color: #d4ebff;}#sk-container-id-1 input.sk-hidden--visually {border: 0;clip: rect(1px 1px 1px 1px);clip: rect(1px, 1px, 1px, 1px);height: 1px;margin: -1px;overflow: hidden;padding: 0;position: absolute;width: 1px;}#sk-container-id-1 div.sk-estimator {font-family: monospace;background-color: #f0f8ff;border: 1px dotted black;border-radius: 0.25em;box-sizing: border-box;margin-bottom: 0.5em;}#sk-container-id-1 div.sk-estimator:hover {background-color: #d4ebff;}#sk-container-id-1 div.sk-parallel-item::after {content: \"\";width: 100%;border-bottom: 1px solid gray;flex-grow: 1;}#sk-container-id-1 div.sk-label:hover label.sk-toggleable__label {background-color: #d4ebff;}#sk-container-id-1 div.sk-serial::before {content: \"\";position: absolute;border-left: 1px solid gray;box-sizing: border-box;top: 0;bottom: 0;left: 50%;z-index: 0;}#sk-container-id-1 div.sk-serial {display: flex;flex-direction: column;align-items: center;background-color: white;padding-right: 0.2em;padding-left: 0.2em;position: relative;}#sk-container-id-1 div.sk-item {position: relative;z-index: 1;}#sk-container-id-1 div.sk-parallel {display: flex;align-items: stretch;justify-content: center;background-color: white;position: relative;}#sk-container-id-1 div.sk-item::before, #sk-container-id-1 div.sk-parallel-item::before {content: \"\";position: absolute;border-left: 1px solid gray;box-sizing: border-box;top: 0;bottom: 0;left: 50%;z-index: -1;}#sk-container-id-1 div.sk-parallel-item {display: flex;flex-direction: column;z-index: 1;position: relative;background-color: white;}#sk-container-id-1 div.sk-parallel-item:first-child::after {align-self: flex-end;width: 50%;}#sk-container-id-1 div.sk-parallel-item:last-child::after {align-self: flex-start;width: 50%;}#sk-container-id-1 div.sk-parallel-item:only-child::after {width: 0;}#sk-container-id-1 div.sk-dashed-wrapped {border: 1px dashed gray;margin: 0 0.4em 0.5em 0.4em;box-sizing: border-box;padding-bottom: 0.4em;background-color: white;}#sk-container-id-1 div.sk-label label {font-family: monospace;font-weight: bold;display: inline-block;line-height: 1.2em;}#sk-container-id-1 div.sk-label-container {text-align: center;}#sk-container-id-1 div.sk-container {/* jupyter's `normalize.less` sets `[hidden] { display: none; }` but bootstrap.min.css set `[hidden] { display: none !important; }` so we also need the `!important` here to be able to override the default hidden behavior on the sphinx rendered scikit-learn.org. See: https://github.com/scikit-learn/scikit-learn/issues/21755 */display: inline-block !important;position: relative;}#sk-container-id-1 div.sk-text-repr-fallback {display: none;}</style><div id=\"sk-container-id-1\" class=\"sk-top-container\"><div class=\"sk-text-repr-fallback\"><pre>RandomForestClassifier(n_estimators=84, random_state=1)</pre><b>In a Jupyter environment, please rerun this cell to show the HTML representation or trust the notebook. <br />On GitHub, the HTML representation is unable to render, please try loading this page with nbviewer.org.</b></div><div class=\"sk-container\" hidden><div class=\"sk-item\"><div class=\"sk-estimator sk-toggleable\"><input class=\"sk-toggleable__control sk-hidden--visually\" id=\"sk-estimator-id-1\" type=\"checkbox\" checked><label for=\"sk-estimator-id-1\" class=\"sk-toggleable__label sk-toggleable__label-arrow\">RandomForestClassifier</label><div class=\"sk-toggleable__content\"><pre>RandomForestClassifier(n_estimators=84, random_state=1)</pre></div></div></div></div></div>"
            ]
          },
          "metadata": {},
          "execution_count": 34
        }
      ],
      "source": [
        "# นำ n_estimators ที่ดีที่สุดมาทำ model\n",
        "from sklearn.ensemble import RandomForestClassifier\n",
        "from sklearn.metrics import classification_report\n",
        "\n",
        "X_forest = X_train\n",
        "y_forest = y_train\n",
        "\n",
        "model_1 = RandomForestClassifier(n_estimators=84,random_state = 1) \n",
        "\n",
        "model_1.fit(X_forest,y_forest)"
      ],
      "id": "dkXszefzEDri"
    },
    {
      "cell_type": "code",
      "execution_count": null,
      "metadata": {
        "colab": {
          "base_uri": "https://localhost:8080/"
        },
        "id": "za90B5SuERA7",
        "outputId": "70887536-8307-4dc4-901f-390e8edd41e3"
      },
      "outputs": [
        {
          "output_type": "stream",
          "name": "stdout",
          "text": [
            "              precision    recall  f1-score   support\n",
            "\n",
            "           0       0.83      0.50      0.62        20\n",
            "           1       0.89      0.97      0.93       343\n",
            "           2       0.91      0.77      0.84       133\n",
            "           3       0.57      0.33      0.42        12\n",
            "           4       1.00      0.24      0.38        21\n",
            "           5       0.00      0.00      0.00         3\n",
            "           6       0.91      0.91      0.91       233\n",
            "           7       0.67      0.14      0.24        14\n",
            "           8       1.00      0.60      0.75         5\n",
            "           9       0.85      0.95      0.90       254\n",
            "          10       0.78      0.82      0.80        73\n",
            "\n",
            "    accuracy                           0.88      1111\n",
            "   macro avg       0.77      0.57      0.62      1111\n",
            "weighted avg       0.87      0.88      0.87      1111\n",
            "\n"
          ]
        },
        {
          "output_type": "stream",
          "name": "stderr",
          "text": [
            "/usr/local/lib/python3.9/dist-packages/sklearn/metrics/_classification.py:1344: UndefinedMetricWarning: Precision and F-score are ill-defined and being set to 0.0 in labels with no predicted samples. Use `zero_division` parameter to control this behavior.\n",
            "  _warn_prf(average, modifier, msg_start, len(result))\n",
            "/usr/local/lib/python3.9/dist-packages/sklearn/metrics/_classification.py:1344: UndefinedMetricWarning: Precision and F-score are ill-defined and being set to 0.0 in labels with no predicted samples. Use `zero_division` parameter to control this behavior.\n",
            "  _warn_prf(average, modifier, msg_start, len(result))\n",
            "/usr/local/lib/python3.9/dist-packages/sklearn/metrics/_classification.py:1344: UndefinedMetricWarning: Precision and F-score are ill-defined and being set to 0.0 in labels with no predicted samples. Use `zero_division` parameter to control this behavior.\n",
            "  _warn_prf(average, modifier, msg_start, len(result))\n"
          ]
        }
      ],
      "source": [
        "# ดูค่า accuracy ที่ได้\n",
        "y_preds_cv = model_1.predict(X_cv)\n",
        "print(classification_report(y_cv, y_preds_cv)) "
      ],
      "id": "za90B5SuERA7"
    },
    {
      "cell_type": "markdown",
      "metadata": {
        "id": "mHPqSxSlH-vE"
      },
      "source": [
        "###**Decition Tree**"
      ],
      "id": "mHPqSxSlH-vE"
    },
    {
      "cell_type": "code",
      "execution_count": null,
      "metadata": {
        "colab": {
          "base_uri": "https://localhost:8080/",
          "height": 1000
        },
        "id": "DgB3H2dTS-RV",
        "outputId": "3e5c197b-e558-4f41-eb68-798d8014ef0d"
      },
      "outputs": [
        {
          "output_type": "stream",
          "name": "stdout",
          "text": [
            ">1, train: 0.471, valid: 0.449\n",
            ">2, train: 0.536, valid: 0.501\n",
            ">3, train: 0.574, valid: 0.521\n",
            ">4, train: 0.644, valid: 0.594\n",
            ">5, train: 0.710, valid: 0.639\n",
            ">6, train: 0.758, valid: 0.671\n",
            ">7, train: 0.805, valid: 0.689\n",
            ">8, train: 0.847, valid: 0.695\n",
            ">9, train: 0.896, valid: 0.717\n",
            ">10, train: 0.934, valid: 0.727\n",
            ">11, train: 0.959, valid: 0.730\n",
            ">12, train: 0.976, valid: 0.738\n",
            ">13, train: 0.986, valid: 0.720\n",
            ">14, train: 0.991, valid: 0.722\n",
            ">15, train: 0.994, valid: 0.718\n",
            ">16, train: 0.994, valid: 0.725\n",
            ">17, train: 0.995, valid: 0.723\n",
            ">18, train: 0.996, valid: 0.718\n",
            ">19, train: 0.997, valid: 0.712\n",
            ">20, train: 0.998, valid: 0.718\n",
            ">21, train: 0.998, valid: 0.721\n",
            ">22, train: 0.999, valid: 0.714\n",
            ">23, train: 0.999, valid: 0.725\n",
            ">24, train: 1.000, valid: 0.723\n",
            ">25, train: 1.000, valid: 0.728\n",
            ">26, train: 1.000, valid: 0.726\n",
            ">27, train: 1.000, valid: 0.724\n",
            ">28, train: 1.000, valid: 0.733\n",
            ">29, train: 1.000, valid: 0.733\n",
            ">30, train: 1.000, valid: 0.724\n",
            ">31, train: 1.000, valid: 0.723\n",
            ">32, train: 1.000, valid: 0.711\n",
            ">33, train: 1.000, valid: 0.715\n",
            ">34, train: 1.000, valid: 0.715\n",
            ">35, train: 1.000, valid: 0.707\n",
            ">36, train: 1.000, valid: 0.720\n",
            ">37, train: 1.000, valid: 0.716\n",
            ">38, train: 1.000, valid: 0.721\n",
            ">39, train: 1.000, valid: 0.720\n",
            ">40, train: 1.000, valid: 0.725\n",
            ">41, train: 1.000, valid: 0.718\n",
            ">42, train: 1.000, valid: 0.733\n",
            ">43, train: 1.000, valid: 0.724\n",
            ">44, train: 1.000, valid: 0.729\n",
            ">45, train: 1.000, valid: 0.718\n",
            ">46, train: 1.000, valid: 0.708\n",
            ">47, train: 1.000, valid: 0.720\n",
            ">48, train: 1.000, valid: 0.734\n",
            ">49, train: 1.000, valid: 0.718\n",
            ">50, train: 1.000, valid: 0.725\n",
            ">51, train: 1.000, valid: 0.731\n",
            ">52, train: 1.000, valid: 0.729\n",
            ">53, train: 1.000, valid: 0.711\n",
            ">54, train: 1.000, valid: 0.720\n",
            ">55, train: 1.000, valid: 0.723\n",
            ">56, train: 1.000, valid: 0.724\n",
            ">57, train: 1.000, valid: 0.721\n",
            ">58, train: 1.000, valid: 0.723\n",
            ">59, train: 1.000, valid: 0.717\n",
            ">60, train: 1.000, valid: 0.727\n",
            ">61, train: 1.000, valid: 0.722\n",
            ">62, train: 1.000, valid: 0.714\n",
            ">63, train: 1.000, valid: 0.717\n",
            ">64, train: 1.000, valid: 0.720\n",
            ">65, train: 1.000, valid: 0.721\n",
            ">66, train: 1.000, valid: 0.724\n",
            ">67, train: 1.000, valid: 0.717\n",
            ">68, train: 1.000, valid: 0.728\n",
            ">69, train: 1.000, valid: 0.717\n",
            ">70, train: 1.000, valid: 0.714\n",
            ">71, train: 1.000, valid: 0.725\n",
            ">72, train: 1.000, valid: 0.713\n",
            ">73, train: 1.000, valid: 0.729\n",
            ">74, train: 1.000, valid: 0.720\n",
            ">75, train: 1.000, valid: 0.723\n",
            ">76, train: 1.000, valid: 0.725\n",
            ">77, train: 1.000, valid: 0.716\n",
            ">78, train: 1.000, valid: 0.725\n",
            ">79, train: 1.000, valid: 0.719\n",
            ">80, train: 1.000, valid: 0.727\n",
            ">81, train: 1.000, valid: 0.718\n",
            ">82, train: 1.000, valid: 0.734\n",
            ">83, train: 1.000, valid: 0.723\n",
            ">84, train: 1.000, valid: 0.725\n",
            ">85, train: 1.000, valid: 0.719\n",
            ">86, train: 1.000, valid: 0.723\n",
            ">87, train: 1.000, valid: 0.731\n",
            ">88, train: 1.000, valid: 0.729\n",
            ">89, train: 1.000, valid: 0.716\n",
            ">90, train: 1.000, valid: 0.717\n",
            ">91, train: 1.000, valid: 0.724\n",
            ">92, train: 1.000, valid: 0.733\n",
            ">93, train: 1.000, valid: 0.710\n",
            ">94, train: 1.000, valid: 0.725\n",
            ">95, train: 1.000, valid: 0.721\n",
            ">96, train: 1.000, valid: 0.727\n",
            ">97, train: 1.000, valid: 0.724\n",
            ">98, train: 1.000, valid: 0.720\n",
            ">99, train: 1.000, valid: 0.722\n",
            ">100, train: 1.000, valid: 0.716\n"
          ]
        },
        {
          "output_type": "display_data",
          "data": {
            "text/plain": [
              "<Figure size 640x480 with 1 Axes>"
            ],
            "image/png": "[encoded data removed]"
          },
          "metadata": {}
        }
      ],
      "source": [
        "# การวนลูปหาค่า max_depth ที่ดีที่สุด\n",
        "from sklearn.metrics import accuracy_score\n",
        "from matplotlib import pyplot\n",
        "from sklearn.tree import DecisionTreeClassifier\n",
        "\n",
        "train_tree_scores = []\n",
        "valid_tree_scores = []\n",
        "\n",
        "values = [i for i in range(1, 101)]\n",
        "for i in values:\n",
        "  #เนื่องจาก max_depth สามารถเปลี่ยนแปลงเพื่อหาค่าที่ดีที่สุดได้ เลย set ให้เท่ากับ i แล้ววนเก็บค่าเข้า list\n",
        "  tree3 = DecisionTreeClassifier(criterion='gini', max_depth=i )\n",
        "  \n",
        "  # pipeline1 = Pipeline(steps=[\n",
        "  #       ('model', tree3)\n",
        "  # ])\n",
        "\n",
        "  tree3.fit(X_train, y_train)\n",
        "  tree_train_predict = tree3.predict(X_train)\n",
        "  tree_train_acc = accuracy_score(y_train, tree_train_predict)\n",
        "  train_tree_scores.append(tree_train_acc)\n",
        "\n",
        "  tree_valid_predict = tree3.predict(X_cv)\n",
        "  tree_valid_acc = accuracy_score(y_cv, tree_valid_predict)\n",
        "  valid_tree_scores.append(tree_valid_acc)\n",
        "\n",
        "  print('>%d, train: %.3f, valid: %.3f' % (i, tree_train_acc,tree_valid_acc))\n",
        "\n",
        "# นำมา plot graph ระหว่าง tain กับ valid\n",
        "pyplot.plot(values, train_tree_scores, '-o', label='Train')\n",
        "pyplot.plot(values, valid_tree_scores, '-o', label='Valid')\n",
        "pyplot.legend()\n",
        "pyplot.show()"
      ],
      "id": "DgB3H2dTS-RV"
    },
    {
      "cell_type": "code",
      "execution_count": null,
      "metadata": {
        "colab": {
          "base_uri": "https://localhost:8080/"
        },
        "id": "0gizS0skS_jO",
        "outputId": "179cb875-555a-4108-dd06-aeba0425a064"
      },
      "outputs": [
        {
          "output_type": "stream",
          "name": "stdout",
          "text": [
            "0.738073807380738\n"
          ]
        }
      ],
      "source": [
        "# การเก็บค่าสูงสุดของ accuracy\n",
        "max_valid2 = max(valid_tree_scores)\n",
        "print(max_valid2)"
      ],
      "id": "0gizS0skS_jO"
    },
    {
      "cell_type": "code",
      "execution_count": null,
      "metadata": {
        "colab": {
          "base_uri": "https://localhost:8080/"
        },
        "id": "tYmhcYUjWTFf",
        "outputId": "82970460-5238-455b-e9f0-3b5d3066f36b"
      },
      "outputs": [
        {
          "output_type": "execute_result",
          "data": {
            "text/plain": [
              "11"
            ]
          },
          "metadata": {},
          "execution_count": 38
        }
      ],
      "source": [
        "# การหา index ของ accuracy ตัวนั้น\n",
        "valid_tree_scores.index(max_valid2)"
      ],
      "id": "tYmhcYUjWTFf"
    },
    {
      "cell_type": "code",
      "execution_count": null,
      "metadata": {
        "colab": {
          "base_uri": "https://localhost:8080/"
        },
        "id": "w3bQj_OjWqEG",
        "outputId": "3ab6eab3-698b-4206-cf44-caf9d27b5d34"
      },
      "outputs": [
        {
          "output_type": "stream",
          "name": "stdout",
          "text": [
            "              precision    recall  f1-score   support\n",
            "\n",
            "           0       0.64      0.90      0.75        20\n",
            "           1       0.87      0.87      0.87       343\n",
            "           2       0.55      0.59      0.57       133\n",
            "           3       0.25      0.33      0.29        12\n",
            "           4       0.26      0.29      0.27        21\n",
            "           5       0.00      0.00      0.00         3\n",
            "           6       0.77      0.69      0.72       233\n",
            "           7       0.29      0.14      0.19        14\n",
            "           8       0.20      0.40      0.27         5\n",
            "           9       0.77      0.79      0.78       254\n",
            "          10       0.71      0.66      0.68        73\n",
            "\n",
            "    accuracy                           0.74      1111\n",
            "   macro avg       0.48      0.51      0.49      1111\n",
            "weighted avg       0.74      0.74      0.74      1111\n",
            "\n"
          ]
        }
      ],
      "source": [
        "# นำ n_estimators ที่ดีที่สุดมาทำ model\n",
        "from sklearn.tree import DecisionTreeClassifier\n",
        "tree3 = DecisionTreeClassifier(criterion='gini', max_depth=15 )\n",
        "  \n",
        "tree3.fit(X_train, y_train)\n",
        "tree_cv_predict = tree3.predict(X_cv)\n",
        "\n",
        "print(classification_report(y_cv, tree_cv_predict)) "
      ],
      "id": "w3bQj_OjWqEG"
    },
    {
      "cell_type": "markdown",
      "source": [
        "##**Select Feature: ['GCG', 'CCU', 'CCA', 'UGU', 'AGG']**"
      ],
      "metadata": {
        "id": "JBVsZqFIfgAN"
      },
      "id": "JBVsZqFIfgAN"
    },
    {
      "cell_type": "markdown",
      "metadata": {
        "id": "aOZGG0SjfgAT"
      },
      "source": [
        "###**LogisticRegression**"
      ],
      "id": "aOZGG0SjfgAT"
    },
    {
      "cell_type": "code",
      "execution_count": null,
      "metadata": {
        "colab": {
          "base_uri": "https://localhost:8080/"
        },
        "outputId": "a389169b-e52e-48c2-c242-fee99370c4d3",
        "id": "sMTgYvwPfgAT"
      },
      "outputs": [
        {
          "output_type": "stream",
          "name": "stdout",
          "text": [
            "              precision    recall  f1-score   support\n",
            "\n",
            "         arc       0.00      0.00      0.00        20\n",
            "         bct       0.65      0.91      0.75       343\n",
            "         inv       0.26      0.04      0.07       133\n",
            "         mam       0.00      0.00      0.00        12\n",
            "         phg       0.00      0.00      0.00        21\n",
            "         plm       0.00      0.00      0.00         3\n",
            "         pln       0.48      0.39      0.43       233\n",
            "         pri       0.00      0.00      0.00        14\n",
            "         rod       0.00      0.00      0.00         5\n",
            "         vrl       0.47      0.75      0.58       254\n",
            "         vrt       0.73      0.11      0.19        73\n",
            "\n",
            "    accuracy                           0.55      1111\n",
            "   macro avg       0.24      0.20      0.18      1111\n",
            "weighted avg       0.49      0.55      0.48      1111\n",
            "\n"
          ]
        },
        {
          "output_type": "stream",
          "name": "stderr",
          "text": [
            "/usr/local/lib/python3.9/dist-packages/sklearn/metrics/_classification.py:1344: UndefinedMetricWarning: Precision and F-score are ill-defined and being set to 0.0 in labels with no predicted samples. Use `zero_division` parameter to control this behavior.\n",
            "  _warn_prf(average, modifier, msg_start, len(result))\n",
            "/usr/local/lib/python3.9/dist-packages/sklearn/metrics/_classification.py:1344: UndefinedMetricWarning: Precision and F-score are ill-defined and being set to 0.0 in labels with no predicted samples. Use `zero_division` parameter to control this behavior.\n",
            "  _warn_prf(average, modifier, msg_start, len(result))\n",
            "/usr/local/lib/python3.9/dist-packages/sklearn/metrics/_classification.py:1344: UndefinedMetricWarning: Precision and F-score are ill-defined and being set to 0.0 in labels with no predicted samples. Use `zero_division` parameter to control this behavior.\n",
            "  _warn_prf(average, modifier, msg_start, len(result))\n"
          ]
        }
      ],
      "source": [
        "## import library ต่างๆเข้ามาใช้งาน\n",
        "from sklearn.pipeline import Pipeline\n",
        "from sklearn.linear_model import LogisticRegression\n",
        "from sklearn.metrics import classification_report\n",
        "from sklearn.compose import ColumnTransformer\n",
        "from sklearn.preprocessing import MinMaxScaler\n",
        "\n",
        "#เตรียมชิ้นส่วนเพื่อใช้งานใน Pipeline\n",
        "ct = ColumnTransformer([\n",
        "    ('p_con', MinMaxScaler(),[0, 1, 2, 3, 4])\n",
        "])\n",
        "\n",
        "model = LogisticRegression()     #สร้าง model โดยใช้ LogisticRegression() เป็นค่า default\n",
        "\n",
        "#สร้าง pipeline โดยใช้ ColumnTransformer และ model ที่เราได้กำหนดไว้\n",
        "pipeline = Pipeline(steps=[\n",
        "    ('Preprocessing', ct),\n",
        "    ('Modeling', model)\n",
        "])\n",
        "\n",
        "pipeline.fit(X_train1, y_train1)                 #เรียนรู้ Parameters ต่าง ๆ ใน Pipeline\n",
        "predictions = pipeline.predict(X_cv1)       #ทำการ predict \n",
        "\n",
        "print(classification_report(y_cv1, predictions))"
      ],
      "id": "sMTgYvwPfgAT"
    },
    {
      "cell_type": "code",
      "execution_count": null,
      "metadata": {
        "colab": {
          "base_uri": "https://localhost:8080/"
        },
        "outputId": "a206e7cf-0f6f-4deb-e8a2-397a3ea918b7",
        "id": "sCPAn4kzfgAT"
      },
      "outputs": [
        {
          "output_type": "stream",
          "name": "stderr",
          "text": [
            "/usr/local/lib/python3.9/dist-packages/sklearn/linear_model/_logistic.py:458: ConvergenceWarning: lbfgs failed to converge (status=1):\n",
            "STOP: TOTAL NO. of ITERATIONS REACHED LIMIT.\n",
            "\n",
            "Increase the number of iterations (max_iter) or scale the data as shown in:\n",
            "    https://scikit-learn.org/stable/modules/preprocessing.html\n",
            "Please also refer to the documentation for alternative solver options:\n",
            "    https://scikit-learn.org/stable/modules/linear_model.html#logistic-regression\n",
            "  n_iter_i = _check_optimize_result(\n",
            "/usr/local/lib/python3.9/dist-packages/sklearn/linear_model/_logistic.py:458: ConvergenceWarning: lbfgs failed to converge (status=1):\n",
            "STOP: TOTAL NO. of ITERATIONS REACHED LIMIT.\n",
            "\n",
            "Increase the number of iterations (max_iter) or scale the data as shown in:\n",
            "    https://scikit-learn.org/stable/modules/preprocessing.html\n",
            "Please also refer to the documentation for alternative solver options:\n",
            "    https://scikit-learn.org/stable/modules/linear_model.html#logistic-regression\n",
            "  n_iter_i = _check_optimize_result(\n"
          ]
        },
        {
          "output_type": "stream",
          "name": "stdout",
          "text": [
            "[0.5631563156315632, 0.5715571557155715, 0.5763576357635763]\n",
            "[0.5454545454545454, 0.5508550855085509, 0.5562556255625563]\n"
          ]
        },
        {
          "output_type": "stream",
          "name": "stderr",
          "text": [
            "/usr/local/lib/python3.9/dist-packages/sklearn/linear_model/_logistic.py:458: ConvergenceWarning: lbfgs failed to converge (status=1):\n",
            "STOP: TOTAL NO. of ITERATIONS REACHED LIMIT.\n",
            "\n",
            "Increase the number of iterations (max_iter) or scale the data as shown in:\n",
            "    https://scikit-learn.org/stable/modules/preprocessing.html\n",
            "Please also refer to the documentation for alternative solver options:\n",
            "    https://scikit-learn.org/stable/modules/linear_model.html#logistic-regression\n",
            "  n_iter_i = _check_optimize_result(\n"
          ]
        }
      ],
      "source": [
        "# การสร้าง model LogisticRegression โดยที่เราจะวลลูปหาค่า degree ที่จะให้ผล accuracy ที่มากที่สุด\n",
        "from sklearn.preprocessing import PolynomialFeatures\n",
        "from sklearn.metrics import accuracy_score\n",
        "from sklearn.compose import ColumnTransformer\n",
        "from sklearn.pipeline import Pipeline\n",
        "from sklearn.linear_model import LogisticRegression\n",
        "\n",
        "model = LogisticRegression()\n",
        "list_T = []  #สร้าง list ไว้เก็บ accuracy ของ train\n",
        "list_V = []  #สร้าง list ไว้เก็บ accuracy ของ valid\n",
        "\n",
        "for i in range(3):\n",
        "    model = LogisticRegression()\n",
        "\n",
        "    pipeline = Pipeline(steps=[\n",
        "        ('Preprocessing', ct),\n",
        "        ('Polynomial', PolynomialFeatures(degree=i + 1 )),  # Set degree to i + 1\n",
        "        ('Modeling', model)\n",
        "    ])\n",
        "\n",
        "    pipeline.fit(X_train1, y_train1)\n",
        "    predictions = pipeline.predict(X_cv1)\n",
        "    predictions2 = pipeline.predict(X_train1)\n",
        "    \n",
        "    list_T.append(accuracy_score(y_train1, predictions2))\n",
        "    list_V.append(accuracy_score(y_cv1, predictions))\n",
        "\n",
        "print(list_T)\n",
        "print(list_V)\n"
      ],
      "id": "sCPAn4kzfgAT"
    },
    {
      "cell_type": "code",
      "execution_count": null,
      "metadata": {
        "colab": {
          "base_uri": "https://localhost:8080/",
          "height": 807
        },
        "id": "ktbgPVFmfgAT",
        "outputId": "db852a7a-f365-43c4-93ce-74b25dd33523"
      },
      "outputs": [
        {
          "output_type": "display_data",
          "data": {
            "text/plain": [
              "<Figure size 1000x800 with 1 Axes>"
            ],
            "image/png": "[encoded data removed]"
          },
          "metadata": {}
        }
      ],
      "source": [
        "# การ plot graph\n",
        "fig, ax = plt.subplots(1,1, figsize=(10,8))\n",
        "\n",
        "cpts = list(range(1, len(list_T)+1))  # Update cpts to match the length of list_T\n",
        "ax.plot(\n",
        "    cpts, list_T, marker='o', label=\"train accuracy\", lw=2, color=\"blue\")\n",
        "ax.plot(\n",
        "    cpts, list_V,    marker='o', label=\"valid accuracy\", lw=2, color=\"orange\")\n",
        "ax.set_xlabel(\"degree\")\n",
        "ax.set_ylabel(\"accuracy\")\n",
        "ax.legend()\n",
        "ax.set_title(\"accuracy vs poly degree\")\n",
        "plt.tight_layout()\n",
        "plt.show()\n",
        "plt.close('all')\n"
      ],
      "id": "ktbgPVFmfgAT"
    },
    {
      "cell_type": "code",
      "execution_count": null,
      "metadata": {
        "colab": {
          "base_uri": "https://localhost:8080/"
        },
        "id": "ffjk9xdHfgAT",
        "outputId": "59bc92bc-f84c-40f6-eedf-0b86a4d4212d"
      },
      "outputs": [
        {
          "output_type": "stream",
          "name": "stdout",
          "text": [
            "0.5562556255625563\n"
          ]
        }
      ],
      "source": [
        "# การเก็บค่าสูงสุดของ accuracy\n",
        "max_valid0 = max(list_V)\n",
        "print(max_valid0)"
      ],
      "id": "ffjk9xdHfgAT"
    },
    {
      "cell_type": "code",
      "execution_count": null,
      "metadata": {
        "colab": {
          "base_uri": "https://localhost:8080/"
        },
        "id": "hZn8mT-jfgAU",
        "outputId": "5352d6c5-4606-4923-9979-579eb209ec72"
      },
      "outputs": [
        {
          "output_type": "stream",
          "name": "stdout",
          "text": [
            "2\n"
          ]
        }
      ],
      "source": [
        "#การหา index ของ accuracy ตัวนั้น\n",
        "Pdegree = list_V.index(max_valid0)\n",
        "print(Pdegree)"
      ],
      "id": "hZn8mT-jfgAU"
    },
    {
      "cell_type": "code",
      "execution_count": null,
      "metadata": {
        "colab": {
          "base_uri": "https://localhost:8080/"
        },
        "id": "hqTly5J7fgAU",
        "outputId": "76da497b-b6a1-4f06-936b-c3b053b2566e"
      },
      "outputs": [
        {
          "output_type": "stream",
          "name": "stdout",
          "text": [
            "              precision    recall  f1-score   support\n",
            "\n",
            "         arc       0.00      0.00      0.00        20\n",
            "         bct       0.65      0.91      0.76       343\n",
            "         inv       0.24      0.04      0.06       133\n",
            "         mam       0.00      0.00      0.00        12\n",
            "         phg       0.00      0.00      0.00        21\n",
            "         plm       0.00      0.00      0.00         3\n",
            "         pln       0.48      0.46      0.47       233\n",
            "         pri       0.00      0.00      0.00        14\n",
            "         rod       0.00      0.00      0.00         5\n",
            "         vrl       0.50      0.73      0.59       254\n",
            "         vrt       0.67      0.14      0.23        73\n",
            "\n",
            "    accuracy                           0.56      1111\n",
            "   macro avg       0.23      0.21      0.19      1111\n",
            "weighted avg       0.49      0.56      0.49      1111\n",
            "\n"
          ]
        },
        {
          "output_type": "stream",
          "name": "stderr",
          "text": [
            "/usr/local/lib/python3.9/dist-packages/sklearn/linear_model/_logistic.py:458: ConvergenceWarning: lbfgs failed to converge (status=1):\n",
            "STOP: TOTAL NO. of ITERATIONS REACHED LIMIT.\n",
            "\n",
            "Increase the number of iterations (max_iter) or scale the data as shown in:\n",
            "    https://scikit-learn.org/stable/modules/preprocessing.html\n",
            "Please also refer to the documentation for alternative solver options:\n",
            "    https://scikit-learn.org/stable/modules/linear_model.html#logistic-regression\n",
            "  n_iter_i = _check_optimize_result(\n",
            "/usr/local/lib/python3.9/dist-packages/sklearn/metrics/_classification.py:1344: UndefinedMetricWarning: Precision and F-score are ill-defined and being set to 0.0 in labels with no predicted samples. Use `zero_division` parameter to control this behavior.\n",
            "  _warn_prf(average, modifier, msg_start, len(result))\n",
            "/usr/local/lib/python3.9/dist-packages/sklearn/metrics/_classification.py:1344: UndefinedMetricWarning: Precision and F-score are ill-defined and being set to 0.0 in labels with no predicted samples. Use `zero_division` parameter to control this behavior.\n",
            "  _warn_prf(average, modifier, msg_start, len(result))\n",
            "/usr/local/lib/python3.9/dist-packages/sklearn/metrics/_classification.py:1344: UndefinedMetricWarning: Precision and F-score are ill-defined and being set to 0.0 in labels with no predicted samples. Use `zero_division` parameter to control this behavior.\n",
            "  _warn_prf(average, modifier, msg_start, len(result))\n"
          ]
        }
      ],
      "source": [
        "# การทดสอบ model โดยใช้ค่า degree ที่ดีที่สุดที่เราหามา\n",
        "model = LogisticRegression()\n",
        "\n",
        "pipeline = Pipeline(steps=[\n",
        "        ('Preprocessing', ct),\n",
        "        ('Polynomial', PolynomialFeatures(degree = 3 )), \n",
        "        ('Modeling', model)\n",
        "])\n",
        "\n",
        "pipeline.fit(X_train1, y_train1)\n",
        "predictions = pipeline.predict(X_cv1)\n",
        "print(classification_report(y_cv1, predictions )) \n"
      ],
      "id": "hqTly5J7fgAU"
    },
    {
      "cell_type": "markdown",
      "metadata": {
        "id": "MRQjsh69fgAU"
      },
      "source": [
        "###**Random Forest**"
      ],
      "id": "MRQjsh69fgAU"
    },
    {
      "cell_type": "code",
      "execution_count": null,
      "metadata": {
        "colab": {
          "base_uri": "https://localhost:8080/",
          "height": 1000
        },
        "id": "uG01ontJfgAU",
        "outputId": "ecf0c9eb-9a43-4026-ee60-6a7f1fd63d99"
      },
      "outputs": [
        {
          "output_type": "stream",
          "name": "stdout",
          "text": [
            ">1, train: 0.831, valid: 0.516\n",
            ">2, train: 0.819, valid: 0.537\n",
            ">3, train: 0.907, valid: 0.563\n",
            ">4, train: 0.932, valid: 0.581\n",
            ">5, train: 0.950, valid: 0.581\n",
            ">6, train: 0.963, valid: 0.596\n",
            ">7, train: 0.971, valid: 0.589\n",
            ">8, train: 0.974, valid: 0.602\n",
            ">9, train: 0.980, valid: 0.605\n",
            ">10, train: 0.981, valid: 0.614\n",
            ">11, train: 0.986, valid: 0.617\n",
            ">12, train: 0.987, valid: 0.620\n",
            ">13, train: 0.990, valid: 0.621\n",
            ">14, train: 0.989, valid: 0.617\n",
            ">15, train: 0.991, valid: 0.624\n",
            ">16, train: 0.992, valid: 0.626\n",
            ">17, train: 0.994, valid: 0.622\n",
            ">18, train: 0.995, valid: 0.624\n",
            ">19, train: 0.995, valid: 0.620\n",
            ">20, train: 0.995, valid: 0.631\n",
            ">21, train: 0.995, valid: 0.631\n",
            ">22, train: 0.996, valid: 0.635\n",
            ">23, train: 0.997, valid: 0.629\n",
            ">24, train: 0.998, valid: 0.636\n",
            ">25, train: 0.998, valid: 0.627\n",
            ">26, train: 0.997, valid: 0.637\n",
            ">27, train: 0.998, valid: 0.637\n",
            ">28, train: 0.997, valid: 0.638\n",
            ">29, train: 0.998, valid: 0.636\n",
            ">30, train: 0.998, valid: 0.635\n",
            ">31, train: 0.998, valid: 0.632\n",
            ">32, train: 0.998, valid: 0.632\n",
            ">33, train: 0.999, valid: 0.632\n",
            ">34, train: 0.998, valid: 0.633\n",
            ">35, train: 0.999, valid: 0.635\n",
            ">36, train: 0.998, valid: 0.641\n",
            ">37, train: 0.999, valid: 0.639\n",
            ">38, train: 0.998, valid: 0.639\n",
            ">39, train: 0.999, valid: 0.638\n",
            ">40, train: 0.998, valid: 0.636\n",
            ">41, train: 0.999, valid: 0.638\n",
            ">42, train: 0.998, valid: 0.635\n",
            ">43, train: 0.999, valid: 0.635\n",
            ">44, train: 0.999, valid: 0.631\n",
            ">45, train: 0.999, valid: 0.634\n",
            ">46, train: 0.999, valid: 0.633\n",
            ">47, train: 1.000, valid: 0.635\n",
            ">48, train: 0.999, valid: 0.635\n",
            ">49, train: 1.000, valid: 0.635\n",
            ">50, train: 1.000, valid: 0.637\n",
            ">51, train: 1.000, valid: 0.637\n",
            ">52, train: 1.000, valid: 0.640\n",
            ">53, train: 1.000, valid: 0.636\n",
            ">54, train: 1.000, valid: 0.636\n",
            ">55, train: 1.000, valid: 0.634\n",
            ">56, train: 1.000, valid: 0.638\n",
            ">57, train: 1.000, valid: 0.635\n",
            ">58, train: 1.000, valid: 0.635\n",
            ">59, train: 1.000, valid: 0.635\n",
            ">60, train: 1.000, valid: 0.636\n",
            ">61, train: 1.000, valid: 0.641\n",
            ">62, train: 1.000, valid: 0.641\n",
            ">63, train: 1.000, valid: 0.641\n",
            ">64, train: 1.000, valid: 0.645\n",
            ">65, train: 1.000, valid: 0.639\n",
            ">66, train: 1.000, valid: 0.644\n",
            ">67, train: 1.000, valid: 0.641\n",
            ">68, train: 1.000, valid: 0.641\n",
            ">69, train: 1.000, valid: 0.641\n",
            ">70, train: 1.000, valid: 0.646\n",
            ">71, train: 1.000, valid: 0.640\n",
            ">72, train: 1.000, valid: 0.642\n",
            ">73, train: 1.000, valid: 0.640\n",
            ">74, train: 1.000, valid: 0.640\n",
            ">75, train: 1.000, valid: 0.638\n",
            ">76, train: 1.000, valid: 0.641\n",
            ">77, train: 1.000, valid: 0.641\n",
            ">78, train: 1.000, valid: 0.643\n",
            ">79, train: 1.000, valid: 0.644\n",
            ">80, train: 1.000, valid: 0.645\n",
            ">81, train: 1.000, valid: 0.647\n",
            ">82, train: 1.000, valid: 0.648\n",
            ">83, train: 1.000, valid: 0.648\n",
            ">84, train: 1.000, valid: 0.647\n",
            ">85, train: 1.000, valid: 0.647\n",
            ">86, train: 1.000, valid: 0.646\n",
            ">87, train: 1.000, valid: 0.644\n",
            ">88, train: 1.000, valid: 0.644\n",
            ">89, train: 1.000, valid: 0.645\n",
            ">90, train: 1.000, valid: 0.645\n",
            ">91, train: 1.000, valid: 0.646\n",
            ">92, train: 1.000, valid: 0.645\n",
            ">93, train: 1.000, valid: 0.644\n",
            ">94, train: 1.000, valid: 0.644\n",
            ">95, train: 1.000, valid: 0.645\n",
            ">96, train: 1.000, valid: 0.646\n",
            ">97, train: 1.000, valid: 0.643\n",
            ">98, train: 1.000, valid: 0.642\n",
            ">99, train: 1.000, valid: 0.644\n",
            ">100, train: 1.000, valid: 0.643\n"
          ]
        },
        {
          "output_type": "display_data",
          "data": {
            "text/plain": [
              "<Figure size 640x480 with 1 Axes>"
            ],
            "image/png": "[encoded data removed]"
          },
          "metadata": {}
        }
      ],
      "source": [
        "# การวนลูปหาค่า n_estimators ที่ดีที่สุด\n",
        "from sklearn.metrics import accuracy_score\n",
        "from matplotlib import pyplot\n",
        "from sklearn.ensemble import RandomForestClassifier\n",
        "\n",
        "train_scores = [] #สร้าง list ไว้เก็บ accuracy ของ train\n",
        "valid_scores = [] #สร้าง list ไว้เก็บ accuracy ของ valid\n",
        "\n",
        "values = [i for i in range(1, 101)]\n",
        "for i in values:\n",
        "   #เนื่องจาก n_estimators สามารถเปลี่ยนแปลงเพื่อหาค่าที่ดีที่สุดได้ เลย set ให้เท่ากับ i แล้ววนเก็บค่าเข้า list\n",
        "   modell = RandomForestClassifier(n_estimators=i,random_state=1) \n",
        "   modell.fit(X_train1, y_train1)\n",
        "\n",
        "   train_predict = modell.predict(X_train1)\n",
        "   train_acc = accuracy_score(y_train1, train_predict)\n",
        "   train_scores.append(train_acc)\n",
        "\n",
        "   valid_predict = modell.predict(X_cv1)\n",
        "   valid_acc = accuracy_score(y_cv1, valid_predict)\n",
        "   valid_scores.append(valid_acc)\n",
        "\n",
        "   print('>%d, train: %.3f, valid: %.3f' % (i, train_acc,valid_acc))\n",
        "\n",
        "# นำมา plot graph ระหว่าง tain กับ valid\n",
        "pyplot.plot(values, train_scores, '-o', label='Train')\n",
        "pyplot.plot(values, valid_scores, '-o', label='Valid')\n",
        "pyplot.legend()\n",
        "pyplot.show()"
      ],
      "id": "uG01ontJfgAU"
    },
    {
      "cell_type": "code",
      "execution_count": null,
      "metadata": {
        "colab": {
          "base_uri": "https://localhost:8080/"
        },
        "id": "O2IyJMf2fgAU",
        "outputId": "57ba851f-3ec7-48ac-8204-ec54d8c9bcd5"
      },
      "outputs": [
        {
          "output_type": "stream",
          "name": "stdout",
          "text": [
            "0.648064806480648\n"
          ]
        }
      ],
      "source": [
        "# การเก็บค่าสูงสุดของ accuracy\n",
        "max_valid = max(valid_scores)\n",
        "print(max_valid)"
      ],
      "id": "O2IyJMf2fgAU"
    },
    {
      "cell_type": "code",
      "execution_count": null,
      "metadata": {
        "colab": {
          "base_uri": "https://localhost:8080/"
        },
        "id": "gSMR5-vKfgAU",
        "outputId": "872e268f-7932-4d57-b43b-dbefb313b1d7"
      },
      "outputs": [
        {
          "output_type": "execute_result",
          "data": {
            "text/plain": [
              "81"
            ]
          },
          "metadata": {},
          "execution_count": 48
        }
      ],
      "source": [
        "# การหา index ของ accuracy ตัวนั้น\n",
        "valid_scores.index(max_valid)"
      ],
      "id": "gSMR5-vKfgAU"
    },
    {
      "cell_type": "code",
      "execution_count": null,
      "metadata": {
        "colab": {
          "base_uri": "https://localhost:8080/",
          "height": 74
        },
        "id": "Z7SEHiUifgAU",
        "outputId": "f3b2ac27-bacc-4e73-9fbd-5e553047ad8a"
      },
      "outputs": [
        {
          "output_type": "execute_result",
          "data": {
            "text/plain": [
              "RandomForestClassifier(n_estimators=82, random_state=1)"
            ],
            "text/html": [
              "<style>#sk-container-id-2 {color: black;background-color: white;}#sk-container-id-2 pre{padding: 0;}#sk-container-id-2 div.sk-toggleable {background-color: white;}#sk-container-id-2 label.sk-toggleable__label {cursor: pointer;display: block;width: 100%;margin-bottom: 0;padding: 0.3em;box-sizing: border-box;text-align: center;}#sk-container-id-2 label.sk-toggleable__label-arrow:before {content: \"▸\";float: left;margin-right: 0.25em;color: #696969;}#sk-container-id-2 label.sk-toggleable__label-arrow:hover:before {color: black;}#sk-container-id-2 div.sk-estimator:hover label.sk-toggleable__label-arrow:before {color: black;}#sk-container-id-2 div.sk-toggleable__content {max-height: 0;max-width: 0;overflow: hidden;text-align: left;background-color: #f0f8ff;}#sk-container-id-2 div.sk-toggleable__content pre {margin: 0.2em;color: black;border-radius: 0.25em;background-color: #f0f8ff;}#sk-container-id-2 input.sk-toggleable__control:checked~div.sk-toggleable__content {max-height: 200px;max-width: 100%;overflow: auto;}#sk-container-id-2 input.sk-toggleable__control:checked~label.sk-toggleable__label-arrow:before {content: \"▾\";}#sk-container-id-2 div.sk-estimator input.sk-toggleable__control:checked~label.sk-toggleable__label {background-color: #d4ebff;}#sk-container-id-2 div.sk-label input.sk-toggleable__control:checked~label.sk-toggleable__label {background-color: #d4ebff;}#sk-container-id-2 input.sk-hidden--visually {border: 0;clip: rect(1px 1px 1px 1px);clip: rect(1px, 1px, 1px, 1px);height: 1px;margin: -1px;overflow: hidden;padding: 0;position: absolute;width: 1px;}#sk-container-id-2 div.sk-estimator {font-family: monospace;background-color: #f0f8ff;border: 1px dotted black;border-radius: 0.25em;box-sizing: border-box;margin-bottom: 0.5em;}#sk-container-id-2 div.sk-estimator:hover {background-color: #d4ebff;}#sk-container-id-2 div.sk-parallel-item::after {content: \"\";width: 100%;border-bottom: 1px solid gray;flex-grow: 1;}#sk-container-id-2 div.sk-label:hover label.sk-toggleable__label {background-color: #d4ebff;}#sk-container-id-2 div.sk-serial::before {content: \"\";position: absolute;border-left: 1px solid gray;box-sizing: border-box;top: 0;bottom: 0;left: 50%;z-index: 0;}#sk-container-id-2 div.sk-serial {display: flex;flex-direction: column;align-items: center;background-color: white;padding-right: 0.2em;padding-left: 0.2em;position: relative;}#sk-container-id-2 div.sk-item {position: relative;z-index: 1;}#sk-container-id-2 div.sk-parallel {display: flex;align-items: stretch;justify-content: center;background-color: white;position: relative;}#sk-container-id-2 div.sk-item::before, #sk-container-id-2 div.sk-parallel-item::before {content: \"\";position: absolute;border-left: 1px solid gray;box-sizing: border-box;top: 0;bottom: 0;left: 50%;z-index: -1;}#sk-container-id-2 div.sk-parallel-item {display: flex;flex-direction: column;z-index: 1;position: relative;background-color: white;}#sk-container-id-2 div.sk-parallel-item:first-child::after {align-self: flex-end;width: 50%;}#sk-container-id-2 div.sk-parallel-item:last-child::after {align-self: flex-start;width: 50%;}#sk-container-id-2 div.sk-parallel-item:only-child::after {width: 0;}#sk-container-id-2 div.sk-dashed-wrapped {border: 1px dashed gray;margin: 0 0.4em 0.5em 0.4em;box-sizing: border-box;padding-bottom: 0.4em;background-color: white;}#sk-container-id-2 div.sk-label label {font-family: monospace;font-weight: bold;display: inline-block;line-height: 1.2em;}#sk-container-id-2 div.sk-label-container {text-align: center;}#sk-container-id-2 div.sk-container {/* jupyter's `normalize.less` sets `[hidden] { display: none; }` but bootstrap.min.css set `[hidden] { display: none !important; }` so we also need the `!important` here to be able to override the default hidden behavior on the sphinx rendered scikit-learn.org. See: https://github.com/scikit-learn/scikit-learn/issues/21755 */display: inline-block !important;position: relative;}#sk-container-id-2 div.sk-text-repr-fallback {display: none;}</style><div id=\"sk-container-id-2\" class=\"sk-top-container\"><div class=\"sk-text-repr-fallback\"><pre>RandomForestClassifier(n_estimators=82, random_state=1)</pre><b>In a Jupyter environment, please rerun this cell to show the HTML representation or trust the notebook. <br />On GitHub, the HTML representation is unable to render, please try loading this page with nbviewer.org.</b></div><div class=\"sk-container\" hidden><div class=\"sk-item\"><div class=\"sk-estimator sk-toggleable\"><input class=\"sk-toggleable__control sk-hidden--visually\" id=\"sk-estimator-id-2\" type=\"checkbox\" checked><label for=\"sk-estimator-id-2\" class=\"sk-toggleable__label sk-toggleable__label-arrow\">RandomForestClassifier</label><div class=\"sk-toggleable__content\"><pre>RandomForestClassifier(n_estimators=82, random_state=1)</pre></div></div></div></div></div>"
            ]
          },
          "metadata": {},
          "execution_count": 49
        }
      ],
      "source": [
        "# นำ n_estimators ที่ดีที่สุดมาทำ model\n",
        "from sklearn.ensemble import RandomForestClassifier\n",
        "from sklearn.metrics import classification_report\n",
        "\n",
        "X_forest = X_train1\n",
        "y_forest = y_train1\n",
        "\n",
        "model_1 = RandomForestClassifier(n_estimators=82,random_state = 1) \n",
        "\n",
        "model_1.fit(X_forest,y_forest)"
      ],
      "id": "Z7SEHiUifgAU"
    },
    {
      "cell_type": "code",
      "execution_count": null,
      "metadata": {
        "colab": {
          "base_uri": "https://localhost:8080/"
        },
        "id": "WUgW72f7fgAU",
        "outputId": "2007bda6-75c7-4492-abe0-72d8ef72daba"
      },
      "outputs": [
        {
          "output_type": "stream",
          "name": "stdout",
          "text": [
            "              precision    recall  f1-score   support\n",
            "\n",
            "         arc       0.53      0.50      0.51        20\n",
            "         bct       0.80      0.91      0.85       343\n",
            "         inv       0.47      0.28      0.35       133\n",
            "         mam       0.00      0.00      0.00        12\n",
            "         phg       0.67      0.10      0.17        21\n",
            "         plm       0.00      0.00      0.00         3\n",
            "         pln       0.55      0.64      0.59       233\n",
            "         pri       0.00      0.00      0.00        14\n",
            "         rod       0.00      0.00      0.00         5\n",
            "         vrl       0.62      0.73      0.67       254\n",
            "         vrt       0.53      0.34      0.42        73\n",
            "\n",
            "    accuracy                           0.65      1111\n",
            "   macro avg       0.38      0.32      0.32      1111\n",
            "weighted avg       0.62      0.65      0.62      1111\n",
            "\n"
          ]
        },
        {
          "output_type": "stream",
          "name": "stderr",
          "text": [
            "/usr/local/lib/python3.9/dist-packages/sklearn/metrics/_classification.py:1344: UndefinedMetricWarning: Precision and F-score are ill-defined and being set to 0.0 in labels with no predicted samples. Use `zero_division` parameter to control this behavior.\n",
            "  _warn_prf(average, modifier, msg_start, len(result))\n",
            "/usr/local/lib/python3.9/dist-packages/sklearn/metrics/_classification.py:1344: UndefinedMetricWarning: Precision and F-score are ill-defined and being set to 0.0 in labels with no predicted samples. Use `zero_division` parameter to control this behavior.\n",
            "  _warn_prf(average, modifier, msg_start, len(result))\n",
            "/usr/local/lib/python3.9/dist-packages/sklearn/metrics/_classification.py:1344: UndefinedMetricWarning: Precision and F-score are ill-defined and being set to 0.0 in labels with no predicted samples. Use `zero_division` parameter to control this behavior.\n",
            "  _warn_prf(average, modifier, msg_start, len(result))\n"
          ]
        }
      ],
      "source": [
        "# ดูค่า accuracy ที่ได้\n",
        "y_preds_cv = model_1.predict(X_cv1)\n",
        "print(classification_report(y_cv1, y_preds_cv)) "
      ],
      "id": "WUgW72f7fgAU"
    },
    {
      "cell_type": "markdown",
      "metadata": {
        "id": "yQ4wGMWnfgAU"
      },
      "source": [
        "###**Decition Tree**"
      ],
      "id": "yQ4wGMWnfgAU"
    },
    {
      "cell_type": "code",
      "execution_count": null,
      "metadata": {
        "colab": {
          "base_uri": "https://localhost:8080/",
          "height": 1000
        },
        "id": "7kcn1i7gfgAW",
        "outputId": "cf0f46d8-1796-4f8a-c367-8363e038b91d"
      },
      "outputs": [
        {
          "output_type": "stream",
          "name": "stdout",
          "text": [
            ">1, train: 0.471, valid: 0.449\n",
            ">2, train: 0.506, valid: 0.486\n",
            ">3, train: 0.557, valid: 0.529\n",
            ">4, train: 0.582, valid: 0.556\n",
            ">5, train: 0.613, valid: 0.572\n",
            ">6, train: 0.638, valid: 0.579\n",
            ">7, train: 0.676, valid: 0.587\n",
            ">8, train: 0.719, valid: 0.581\n",
            ">9, train: 0.758, valid: 0.547\n",
            ">10, train: 0.806, valid: 0.566\n",
            ">11, train: 0.856, valid: 0.564\n",
            ">12, train: 0.893, valid: 0.550\n",
            ">13, train: 0.923, valid: 0.538\n",
            ">14, train: 0.944, valid: 0.530\n",
            ">15, train: 0.960, valid: 0.527\n",
            ">16, train: 0.974, valid: 0.527\n",
            ">17, train: 0.983, valid: 0.536\n",
            ">18, train: 0.991, valid: 0.526\n",
            ">19, train: 0.995, valid: 0.518\n",
            ">20, train: 0.997, valid: 0.530\n",
            ">21, train: 0.998, valid: 0.519\n",
            ">22, train: 0.998, valid: 0.522\n",
            ">23, train: 0.998, valid: 0.523\n",
            ">24, train: 0.998, valid: 0.525\n",
            ">25, train: 0.999, valid: 0.513\n",
            ">26, train: 0.999, valid: 0.523\n",
            ">27, train: 0.999, valid: 0.514\n",
            ">28, train: 1.000, valid: 0.517\n",
            ">29, train: 1.000, valid: 0.515\n",
            ">30, train: 1.000, valid: 0.508\n",
            ">31, train: 1.000, valid: 0.525\n",
            ">32, train: 1.000, valid: 0.519\n",
            ">33, train: 1.000, valid: 0.516\n",
            ">34, train: 1.000, valid: 0.521\n",
            ">35, train: 1.000, valid: 0.515\n",
            ">36, train: 1.000, valid: 0.521\n",
            ">37, train: 1.000, valid: 0.513\n",
            ">38, train: 1.000, valid: 0.523\n",
            ">39, train: 1.000, valid: 0.521\n",
            ">40, train: 1.000, valid: 0.524\n",
            ">41, train: 1.000, valid: 0.523\n",
            ">42, train: 1.000, valid: 0.510\n",
            ">43, train: 1.000, valid: 0.515\n",
            ">44, train: 1.000, valid: 0.517\n",
            ">45, train: 1.000, valid: 0.509\n",
            ">46, train: 1.000, valid: 0.518\n",
            ">47, train: 1.000, valid: 0.525\n",
            ">48, train: 1.000, valid: 0.509\n",
            ">49, train: 1.000, valid: 0.514\n",
            ">50, train: 1.000, valid: 0.521\n",
            ">51, train: 1.000, valid: 0.512\n",
            ">52, train: 1.000, valid: 0.523\n",
            ">53, train: 1.000, valid: 0.513\n",
            ">54, train: 1.000, valid: 0.516\n",
            ">55, train: 1.000, valid: 0.515\n",
            ">56, train: 1.000, valid: 0.512\n",
            ">57, train: 1.000, valid: 0.518\n",
            ">58, train: 1.000, valid: 0.511\n",
            ">59, train: 1.000, valid: 0.517\n",
            ">60, train: 1.000, valid: 0.510\n",
            ">61, train: 1.000, valid: 0.511\n",
            ">62, train: 1.000, valid: 0.517\n",
            ">63, train: 1.000, valid: 0.514\n",
            ">64, train: 1.000, valid: 0.518\n",
            ">65, train: 1.000, valid: 0.515\n",
            ">66, train: 1.000, valid: 0.514\n",
            ">67, train: 1.000, valid: 0.512\n",
            ">68, train: 1.000, valid: 0.512\n",
            ">69, train: 1.000, valid: 0.510\n",
            ">70, train: 1.000, valid: 0.518\n",
            ">71, train: 1.000, valid: 0.513\n",
            ">72, train: 1.000, valid: 0.521\n",
            ">73, train: 1.000, valid: 0.517\n",
            ">74, train: 1.000, valid: 0.522\n",
            ">75, train: 1.000, valid: 0.518\n",
            ">76, train: 1.000, valid: 0.508\n",
            ">77, train: 1.000, valid: 0.516\n",
            ">78, train: 1.000, valid: 0.520\n",
            ">79, train: 1.000, valid: 0.530\n",
            ">80, train: 1.000, valid: 0.509\n",
            ">81, train: 1.000, valid: 0.516\n",
            ">82, train: 1.000, valid: 0.520\n",
            ">83, train: 1.000, valid: 0.513\n",
            ">84, train: 1.000, valid: 0.515\n",
            ">85, train: 1.000, valid: 0.503\n",
            ">86, train: 1.000, valid: 0.512\n",
            ">87, train: 1.000, valid: 0.524\n",
            ">88, train: 1.000, valid: 0.509\n",
            ">89, train: 1.000, valid: 0.518\n",
            ">90, train: 1.000, valid: 0.511\n",
            ">91, train: 1.000, valid: 0.521\n",
            ">92, train: 1.000, valid: 0.518\n",
            ">93, train: 1.000, valid: 0.516\n",
            ">94, train: 1.000, valid: 0.513\n",
            ">95, train: 1.000, valid: 0.524\n",
            ">96, train: 1.000, valid: 0.520\n",
            ">97, train: 1.000, valid: 0.510\n",
            ">98, train: 1.000, valid: 0.511\n",
            ">99, train: 1.000, valid: 0.512\n",
            ">100, train: 1.000, valid: 0.521\n"
          ]
        },
        {
          "output_type": "display_data",
          "data": {
            "text/plain": [
              "<Figure size 640x480 with 1 Axes>"
            ],
            "image/png": "[encoded data removed]"
          },
          "metadata": {}
        }
      ],
      "source": [
        "# การวนลูปหาค่า max_depth ที่ดีที่สุด\n",
        "from sklearn.metrics import accuracy_score\n",
        "from matplotlib import pyplot\n",
        "from sklearn.tree import DecisionTreeClassifier\n",
        "\n",
        "train_tree_scores = []\n",
        "valid_tree_scores = []\n",
        "\n",
        "values = [i for i in range(1, 101)]\n",
        "for i in values:\n",
        "  #เนื่องจาก max_depth สามารถเปลี่ยนแปลงเพื่อหาค่าที่ดีที่สุดได้ เลย set ให้เท่ากับ i แล้ววนเก็บค่าเข้า list\n",
        "  tree3 = DecisionTreeClassifier(criterion='gini', max_depth=i )\n",
        "  \n",
        "  # pipeline1 = Pipeline(steps=[\n",
        "  #       ('model', tree3)\n",
        "  # ])\n",
        "\n",
        "  tree3.fit(X_train1, y_train1)\n",
        "  tree_train_predict = tree3.predict(X_train1)\n",
        "  tree_train_acc = accuracy_score(y_train1, tree_train_predict)\n",
        "  train_tree_scores.append(tree_train_acc)\n",
        "\n",
        "  tree_valid_predict = tree3.predict(X_cv1)\n",
        "  tree_valid_acc = accuracy_score(y_cv1, tree_valid_predict)\n",
        "  valid_tree_scores.append(tree_valid_acc)\n",
        "\n",
        "  print('>%d, train: %.3f, valid: %.3f' % (i, tree_train_acc,tree_valid_acc))\n",
        "\n",
        "# นำมา plot graph ระหว่าง tain กับ valid\n",
        "pyplot.plot(values, train_tree_scores, '-o', label='Train')\n",
        "pyplot.plot(values, valid_tree_scores, '-o', label='Valid')\n",
        "pyplot.legend()\n",
        "pyplot.show()"
      ],
      "id": "7kcn1i7gfgAW"
    },
    {
      "cell_type": "code",
      "execution_count": null,
      "metadata": {
        "colab": {
          "base_uri": "https://localhost:8080/"
        },
        "id": "o3LAlD3NfgAW",
        "outputId": "8f7e8893-491d-45db-9445-e139b4d0cb25"
      },
      "outputs": [
        {
          "output_type": "stream",
          "name": "stdout",
          "text": [
            "0.5868586858685868\n"
          ]
        }
      ],
      "source": [
        "# การเก็บค่าสูงสุดของ accuracy\n",
        "max_valid2 = max(valid_tree_scores)\n",
        "print(max_valid2)"
      ],
      "id": "o3LAlD3NfgAW"
    },
    {
      "cell_type": "code",
      "execution_count": null,
      "metadata": {
        "colab": {
          "base_uri": "https://localhost:8080/"
        },
        "id": "BaOQQOyVfgAW",
        "outputId": "5932b8b5-a271-4e1e-f2d0-525d06ad5341"
      },
      "outputs": [
        {
          "output_type": "execute_result",
          "data": {
            "text/plain": [
              "6"
            ]
          },
          "metadata": {},
          "execution_count": 53
        }
      ],
      "source": [
        "# การหา index ของ accuracy ตัวนั้น\n",
        "valid_tree_scores.index(max_valid2)"
      ],
      "id": "BaOQQOyVfgAW"
    },
    {
      "cell_type": "code",
      "execution_count": null,
      "metadata": {
        "colab": {
          "base_uri": "https://localhost:8080/"
        },
        "id": "Ji_6BANmfgAW",
        "outputId": "c800d32d-8226-4ab9-e53a-1a014360aa85"
      },
      "outputs": [
        {
          "output_type": "stream",
          "name": "stdout",
          "text": [
            "              precision    recall  f1-score   support\n",
            "\n",
            "         arc       0.33      0.10      0.15        20\n",
            "         bct       0.77      0.80      0.79       343\n",
            "         inv       0.31      0.20      0.25       133\n",
            "         mam       0.00      0.00      0.00        12\n",
            "         phg       0.00      0.00      0.00        21\n",
            "         plm       0.00      0.00      0.00         3\n",
            "         pln       0.48      0.65      0.55       233\n",
            "         pri       0.00      0.00      0.00        14\n",
            "         rod       0.00      0.00      0.00         5\n",
            "         vrl       0.60      0.62      0.61       254\n",
            "         vrt       0.35      0.38      0.37        73\n",
            "\n",
            "    accuracy                           0.58      1111\n",
            "   macro avg       0.26      0.25      0.25      1111\n",
            "weighted avg       0.54      0.58      0.55      1111\n",
            "\n"
          ]
        },
        {
          "output_type": "stream",
          "name": "stderr",
          "text": [
            "/usr/local/lib/python3.9/dist-packages/sklearn/metrics/_classification.py:1344: UndefinedMetricWarning: Precision and F-score are ill-defined and being set to 0.0 in labels with no predicted samples. Use `zero_division` parameter to control this behavior.\n",
            "  _warn_prf(average, modifier, msg_start, len(result))\n",
            "/usr/local/lib/python3.9/dist-packages/sklearn/metrics/_classification.py:1344: UndefinedMetricWarning: Precision and F-score are ill-defined and being set to 0.0 in labels with no predicted samples. Use `zero_division` parameter to control this behavior.\n",
            "  _warn_prf(average, modifier, msg_start, len(result))\n",
            "/usr/local/lib/python3.9/dist-packages/sklearn/metrics/_classification.py:1344: UndefinedMetricWarning: Precision and F-score are ill-defined and being set to 0.0 in labels with no predicted samples. Use `zero_division` parameter to control this behavior.\n",
            "  _warn_prf(average, modifier, msg_start, len(result))\n"
          ]
        }
      ],
      "source": [
        "# นำ n_estimators ที่ดีที่สุดมาทำ model\n",
        "from sklearn.tree import DecisionTreeClassifier\n",
        "tree3 = DecisionTreeClassifier(criterion='gini', max_depth=6 )\n",
        "  \n",
        "tree3.fit(X_train1, y_train1)\n",
        "tree_cv_predict = tree3.predict(X_cv1)\n",
        "\n",
        "print(classification_report(y_cv1, tree_cv_predict)) "
      ],
      "id": "Ji_6BANmfgAW"
    },
    {
      "cell_type": "markdown",
      "metadata": {
        "id": "9WYftcunnjXK"
      },
      "source": [
        "#**Evaluation of Test Set:**\n",
        "\n",
        "\n",
        "```\n",
        "หลังจากที่ได้ setting ที่ดีที่สุดใน Phase 3 แล้ว ให้วัดผล model เป็นกับ Test set เพื่อสรุปผลการทดลอง\n",
        "```\n",
        "\n"
      ],
      "id": "9WYftcunnjXK"
    },
    {
      "cell_type": "markdown",
      "source": [
        "**สรุปผล:** จากการที่เราได้นำ model ที่ดีที่สุดของเราคือ LogisticRegression ที่มี PolynomialFeatures( degree = 3 ) มาใช้ในการ Predict Data Set ของตัว Test set ซึ่งได้ accuracy ที่ค่อนข้างดีมากนั่นก็คือ 0.93 ทำให้เห็นว่า model ที่เราทำมีประสิทธิภาพ\n"
      ],
      "metadata": {
        "id": "fwYyT_bZAIwQ"
      },
      "id": "fwYyT_bZAIwQ"
    },
    {
      "cell_type": "code",
      "source": [
        "#เตรียมชิ้นส่วนเพื่อใช้งานใน Pipeline\n",
        "ct = ColumnTransformer([\n",
        "    ('p_con', MinMaxScaler(),[0, 1, 2, 3, 4, 5, 6, 7, 8, 9, 10, 11, 12, 13, 14, 15, 16, 17, 18, 19, 20, 21, 22, 23, 24, 25, 26, 27, 28, 29, 30, 31, 32, 33, 34, 35, 36, 37, 38, 39, 40, 41, 42, 43, 44, 45, 46, 47, 48, 49, 50, 51, 52, 53, 54, 55, 56, 57, 58, 59, 60, 61, 62, 63, 64])\n",
        "])\n",
        "\n",
        "model = LogisticRegression()     #สร้าง model โดยใช้ LogisticRegression() เป็นค่า default\n",
        "\n",
        "#สร้าง pipeline โดยใช้ ColumnTransformer และ model ที่เราได้กำหนดไว้\n",
        "pipeline = Pipeline(steps=[\n",
        "   ('Preprocessing', ct),\n",
        "   ('Polynomial', PolynomialFeatures(degree = 3 )), \n",
        "   ('Modeling', model)\n",
        "])\n",
        "\n",
        "pipeline.fit(X_train, y_train)                 #เรียนรู้ Parameters ต่าง ๆ ใน Pipeline\n",
        "predictions = pipeline.predict(X_test)       #ทำการ predict \n",
        "\n",
        "print(classification_report(y_test, predictions))"
      ],
      "metadata": {
        "colab": {
          "base_uri": "https://localhost:8080/"
        },
        "id": "7dPX6RKHaRBL",
        "outputId": "7b4786fc-aa2a-48a5-9019-5822cba757dc"
      },
      "id": "7dPX6RKHaRBL",
      "execution_count": null,
      "outputs": [
        {
          "output_type": "stream",
          "name": "stderr",
          "text": [
            "/usr/local/lib/python3.9/dist-packages/sklearn/linear_model/_logistic.py:458: ConvergenceWarning: lbfgs failed to converge (status=1):\n",
            "STOP: TOTAL NO. of ITERATIONS REACHED LIMIT.\n",
            "\n",
            "Increase the number of iterations (max_iter) or scale the data as shown in:\n",
            "    https://scikit-learn.org/stable/modules/preprocessing.html\n",
            "Please also refer to the documentation for alternative solver options:\n",
            "    https://scikit-learn.org/stable/modules/linear_model.html#logistic-regression\n",
            "  n_iter_i = _check_optimize_result(\n"
          ]
        },
        {
          "output_type": "stream",
          "name": "stdout",
          "text": [
            "              precision    recall  f1-score   support\n",
            "\n",
            "           0       0.76      0.93      0.84        14\n",
            "           1       0.96      0.95      0.95       367\n",
            "           2       0.93      0.88      0.91       130\n",
            "           3       0.92      0.65      0.76        17\n",
            "           4       0.73      0.59      0.65        27\n",
            "           5       0.00      0.00      0.00         5\n",
            "           6       0.91      0.95      0.93       212\n",
            "           7       0.75      0.82      0.78        11\n",
            "           8       0.57      0.67      0.62         6\n",
            "           9       0.95      0.97      0.96       273\n",
            "          10       0.84      0.94      0.88        49\n",
            "\n",
            "    accuracy                           0.93      1111\n",
            "   macro avg       0.76      0.76      0.75      1111\n",
            "weighted avg       0.92      0.93      0.92      1111\n",
            "\n"
          ]
        },
        {
          "output_type": "stream",
          "name": "stderr",
          "text": [
            "/usr/local/lib/python3.9/dist-packages/sklearn/metrics/_classification.py:1344: UndefinedMetricWarning: Precision and F-score are ill-defined and being set to 0.0 in labels with no predicted samples. Use `zero_division` parameter to control this behavior.\n",
            "  _warn_prf(average, modifier, msg_start, len(result))\n",
            "/usr/local/lib/python3.9/dist-packages/sklearn/metrics/_classification.py:1344: UndefinedMetricWarning: Precision and F-score are ill-defined and being set to 0.0 in labels with no predicted samples. Use `zero_division` parameter to control this behavior.\n",
            "  _warn_prf(average, modifier, msg_start, len(result))\n",
            "/usr/local/lib/python3.9/dist-packages/sklearn/metrics/_classification.py:1344: UndefinedMetricWarning: Precision and F-score are ill-defined and being set to 0.0 in labels with no predicted samples. Use `zero_division` parameter to control this behavior.\n",
            "  _warn_prf(average, modifier, msg_start, len(result))\n"
          ]
        }
      ]
    },
    {
      "cell_type": "code",
      "source": [],
      "metadata": {
        "id": "bDKgW7J27HhZ"
      },
      "id": "bDKgW7J27HhZ",
      "execution_count": null,
      "outputs": []
    }
  ],
  "metadata": {
    "colab": {
      "provenance": []
    },
    "kernelspec": {
      "display_name": "Python 3 (ipykernel)",
      "language": "python",
      "name": "python3"
    },
    "language_info": {
      "codemirror_mode": {
        "name": "ipython",
        "version": 3
      },
      "file_extension": ".py",
      "mimetype": "text/x-python",
      "name": "python",
      "nbconvert_exporter": "python",
      "pygments_lexer": "ipython3",
      "version": "3.9.13"
    }
  },
  "nbformat": 4,
  "nbformat_minor": 5
}